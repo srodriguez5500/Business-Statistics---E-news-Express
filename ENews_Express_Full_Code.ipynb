{
  "nbformat": 4,
  "nbformat_minor": 5,
  "metadata": {
    "kernelspec": {
      "display_name": "Python 3",
      "language": "python",
      "name": "python3"
    },
    "language_info": {
      "codemirror_mode": {
        "name": "ipython",
        "version": 3
      },
      "file_extension": ".py",
      "mimetype": "text/x-python",
      "name": "python",
      "nbconvert_exporter": "python",
      "pygments_lexer": "ipython3",
      "version": "3.8.8"
    },
    "colab": {
      "provenance": [],
      "collapsed_sections": [
        "6970dd99",
        "9d75cfa2",
        "68f3b2c9",
        "fad2de2f",
        "27906576",
        "e5fdf0c8",
        "56b3dafd",
        "c7ee4907",
        "3f58c9a7",
        "5fed2eac",
        "f5c5258d",
        "359b12f8",
        "d9affc84",
        "353e9d24",
        "d49bfa2d",
        "8d585a90",
        "3acbc947"
      ],
      "include_colab_link": true
    }
  },
  "cells": [
    {
      "cell_type": "markdown",
      "metadata": {
        "id": "view-in-github",
        "colab_type": "text"
      },
      "source": [
        "<a href=\"https://colab.research.google.com/github/srodriguez5500/E-news-Express/blob/main/ENews_Express_Full_Code.ipynb\" target=\"_parent\"><img src=\"https://colab.research.google.com/assets/colab-badge.svg\" alt=\"Open In Colab\"/></a>"
      ]
    },
    {
      "cell_type": "markdown",
      "metadata": {
        "id": "6yDxo9u0d9Na"
      },
      "source": [
        "# Project Business Statistics: E-news Express\n"
      ],
      "id": "6yDxo9u0d9Na"
    },
    {
      "cell_type": "markdown",
      "metadata": {
        "id": "SrLd-ICEmPSD"
      },
      "source": [
        "## Define Problem Statement and Objectives"
      ],
      "id": "SrLd-ICEmPSD"
    },
    {
      "cell_type": "markdown",
      "source": [
        "# Description\n",
        "Business Context\n",
        "The advent of e-news, or electronic news, portals has offered us a great opportunity to quickly get updates on the day-to-day events occurring globally. The information on these portals is retrieved electronically from online databases, processed using a variety of software, and then transmitted to the users. There are multiple advantages of transmitting new electronically, like faster access to the content and the ability to utilize different technologies such as audio, graphics, video, and other interactive elements that are either not being used or aren’t common yet in traditional newspapers.\n",
        "\n",
        "E-news Express, an online news portal, aims to expand its business by acquiring new subscribers. With every visitor to the website taking certain actions based on their interest, the company plans to analyze these actions to understand user interests and determine how to drive better engagement. The executives at E-news Express are of the opinion that there has been a decline in new monthly subscribers compared to the past year because the current webpage is not designed well enough in terms of the outline & recommended content to keep customers engaged long enough to make a decision to subscribe.\n",
        "\n",
        "[Companies often analyze user responses to two variants of a product to decide which of the two variants is more effective. This experimental technique, known as A/B testing, is used to determine whether a new feature attracts users based on a chosen metric.]\n",
        "\n",
        "# Objective\n",
        "The design team of the company has researched and created a new landing page that has a new outline & more relevant content shown compared to the old page. In order to test the effectiveness of the new landing page in gathering new subscribers, the Data Science team conducted an experiment by randomly selecting 100 users and dividing them equally into two groups. The existing landing page was served to the first group (control group) and the new landing page to the second group (treatment group). Data regarding the interaction of users in both groups with the two versions of the landing page was collected. Being a data scientist in E-news Express, you have been asked to explore the data and perform a statistical analysis (at a significance level of 5%) to determine the effectiveness of the new landing page in gathering new subscribers for the news portal by answering the following questions:\n",
        "\n",
        "1.   Do the users spend more time on the new landing page than on the existing landing page?\n",
        "2.   Is the conversion rate (the proportion of users who visit the landing page and get converted) for the new page greater than the conversion rate for the old page?\n",
        "3.   Does the converted status depend on the preferred language?\n",
        "4.   Is the time spent on the new page the same for the different language users?\n",
        "\n",
        "\n",
        "# Data Dictionary\n",
        "The data contains information regarding the interaction of users in both groups with the two versions of the landing page.\n",
        "\n",
        "- user_id - Unique user ID of the person visiting the website\n",
        "- group - Whether the user belongs to the first group (control) or the second group (treatment)\n",
        "- landing_page - Whether the landing page is new or old\n",
        "- time_spent_on_the_page - Time (in minutes) spent by the user on the landing page\n",
        "- converted - Whether the user gets converted to a subscriber of the news portal or not\n",
        "- language_preferred - Language chosen by the user to view the landing page"
      ],
      "metadata": {
        "id": "11AXskN_k-QK"
      },
      "id": "11AXskN_k-QK"
    },
    {
      "cell_type": "markdown",
      "metadata": {
        "id": "a6a3d218"
      },
      "source": [
        "\n",
        "## Import all the necessary libraries"
      ],
      "id": "a6a3d218"
    },
    {
      "cell_type": "code",
      "source": [
        "# Installing the libraries with the specified version.\n",
        "!pip install numpy==1.26.0 pandas==2.1.4 matplotlib==3.7.1 seaborn==0.13.1 scipy==1.11.4 -q --user"
      ],
      "metadata": {
        "id": "r_5zUIePGS-1",
        "colab": {
          "base_uri": "https://localhost:8080/"
        },
        "outputId": "576b8962-6e90-4a0c-ef79-1e6a9cdc4a0e"
      },
      "id": "r_5zUIePGS-1",
      "execution_count": null,
      "outputs": [
        {
          "output_type": "stream",
          "name": "stdout",
          "text": [
            "\u001b[2K     \u001b[90m━━━━━━━━━━━━━━━━━━━━━━━━━━━━━━━━━━━━━━━━\u001b[0m \u001b[32m58.5/58.5 kB\u001b[0m \u001b[31m1.4 MB/s\u001b[0m eta \u001b[36m0:00:00\u001b[0m\n",
            "\u001b[2K   \u001b[90m━━━━━━━━━━━━━━━━━━━━━━━━━━━━━━━━━━━━━━━━\u001b[0m \u001b[32m18.2/18.2 MB\u001b[0m \u001b[31m14.2 MB/s\u001b[0m eta \u001b[36m0:00:00\u001b[0m\n",
            "\u001b[?25h\u001b[33m  WARNING: The script f2py is installed in '/root/.local/bin' which is not on PATH.\n",
            "  Consider adding this directory to PATH or, if you prefer to suppress this warning, use --no-warn-script-location.\u001b[0m\u001b[33m\n",
            "\u001b[0m"
          ]
        }
      ]
    },
    {
      "cell_type": "markdown",
      "source": [
        "**Note**: *After running the above cell, kindly restart the notebook kernel and run all cells sequentially from the start again.*"
      ],
      "metadata": {
        "id": "DAaycw-QP-j9"
      },
      "id": "DAaycw-QP-j9"
    },
    {
      "cell_type": "markdown",
      "metadata": {
        "id": "6970dd99"
      },
      "source": [
        "## Reading the Data into a DataFrame"
      ],
      "id": "6970dd99"
    },
    {
      "cell_type": "code",
      "source": [
        "from google.colab import drive\n",
        "drive.mount('/content/drive')"
      ],
      "metadata": {
        "colab": {
          "base_uri": "https://localhost:8080/"
        },
        "id": "wYxoOOzbiMrQ",
        "outputId": "8a705a3c-3cc1-440c-abc4-9769408f8d55"
      },
      "id": "wYxoOOzbiMrQ",
      "execution_count": null,
      "outputs": [
        {
          "output_type": "stream",
          "name": "stdout",
          "text": [
            "Drive already mounted at /content/drive; to attempt to forcibly remount, call drive.mount(\"/content/drive\", force_remount=True).\n"
          ]
        }
      ]
    },
    {
      "cell_type": "code",
      "source": [
        "#import libraries for data manipulation\n",
        "import numpy as np\n",
        "import pandas as pd\n",
        "\n",
        "#import libraries for data visualization\n",
        "import matplotlib.pyplot as plt\n",
        "import seaborn as sns\n",
        "\n",
        "#show graphs inline\n",
        "%matplotlib inline\n",
        "\n",
        "#import library for statistical analysis\n",
        "import scipy.stats as stats"
      ],
      "metadata": {
        "id": "pvAfo_27jHsG"
      },
      "id": "pvAfo_27jHsG",
      "execution_count": null,
      "outputs": []
    },
    {
      "cell_type": "code",
      "metadata": {
        "id": "d3b95640"
      },
      "source": [
        "df = pd.read_csv('/content/drive/MyDrive/UT Austin Data Analytics Files/Projects/Project 2 Business Statistics - E News/abtest.csv')"
      ],
      "id": "d3b95640",
      "execution_count": null,
      "outputs": []
    },
    {
      "cell_type": "markdown",
      "metadata": {
        "id": "9d75cfa2"
      },
      "source": [
        "## Explore the dataset and extract insights using Exploratory Data Analysis"
      ],
      "id": "9d75cfa2"
    },
    {
      "cell_type": "markdown",
      "metadata": {
        "id": "27201534"
      },
      "source": [
        "- Data Overview\n",
        "  - Viewing the first and last few rows of the dataset\n",
        "  - Checking the shape of the dataset\n",
        "  - Getting the statistical summary for the variables\n",
        "- Check for missing values\n",
        "- Check for duplicates"
      ],
      "id": "27201534"
    },
    {
      "cell_type": "code",
      "metadata": {
        "id": "e1ad11d4",
        "colab": {
          "base_uri": "https://localhost:8080/",
          "height": 206
        },
        "outputId": "246afdad-b1ba-487e-9fa6-feb4e5188cf8"
      },
      "source": [
        "#view first 5 rows of the data frame\n",
        "df.head()"
      ],
      "id": "e1ad11d4",
      "execution_count": null,
      "outputs": [
        {
          "output_type": "execute_result",
          "data": {
            "text/plain": [
              "   user_id      group landing_page  time_spent_on_the_page converted  \\\n",
              "0   546592    control          old                    3.48        no   \n",
              "1   546468  treatment          new                    7.13       yes   \n",
              "2   546462  treatment          new                    4.40        no   \n",
              "3   546567    control          old                    3.02        no   \n",
              "4   546459  treatment          new                    4.75       yes   \n",
              "\n",
              "  language_preferred  \n",
              "0            Spanish  \n",
              "1            English  \n",
              "2            Spanish  \n",
              "3             French  \n",
              "4            Spanish  "
            ],
            "text/html": [
              "\n",
              "  <div id=\"df-d57f1e34-d8a0-4fe2-9da7-c38633b063fd\" class=\"colab-df-container\">\n",
              "    <div>\n",
              "<style scoped>\n",
              "    .dataframe tbody tr th:only-of-type {\n",
              "        vertical-align: middle;\n",
              "    }\n",
              "\n",
              "    .dataframe tbody tr th {\n",
              "        vertical-align: top;\n",
              "    }\n",
              "\n",
              "    .dataframe thead th {\n",
              "        text-align: right;\n",
              "    }\n",
              "</style>\n",
              "<table border=\"1\" class=\"dataframe\">\n",
              "  <thead>\n",
              "    <tr style=\"text-align: right;\">\n",
              "      <th></th>\n",
              "      <th>user_id</th>\n",
              "      <th>group</th>\n",
              "      <th>landing_page</th>\n",
              "      <th>time_spent_on_the_page</th>\n",
              "      <th>converted</th>\n",
              "      <th>language_preferred</th>\n",
              "    </tr>\n",
              "  </thead>\n",
              "  <tbody>\n",
              "    <tr>\n",
              "      <th>0</th>\n",
              "      <td>546592</td>\n",
              "      <td>control</td>\n",
              "      <td>old</td>\n",
              "      <td>3.48</td>\n",
              "      <td>no</td>\n",
              "      <td>Spanish</td>\n",
              "    </tr>\n",
              "    <tr>\n",
              "      <th>1</th>\n",
              "      <td>546468</td>\n",
              "      <td>treatment</td>\n",
              "      <td>new</td>\n",
              "      <td>7.13</td>\n",
              "      <td>yes</td>\n",
              "      <td>English</td>\n",
              "    </tr>\n",
              "    <tr>\n",
              "      <th>2</th>\n",
              "      <td>546462</td>\n",
              "      <td>treatment</td>\n",
              "      <td>new</td>\n",
              "      <td>4.40</td>\n",
              "      <td>no</td>\n",
              "      <td>Spanish</td>\n",
              "    </tr>\n",
              "    <tr>\n",
              "      <th>3</th>\n",
              "      <td>546567</td>\n",
              "      <td>control</td>\n",
              "      <td>old</td>\n",
              "      <td>3.02</td>\n",
              "      <td>no</td>\n",
              "      <td>French</td>\n",
              "    </tr>\n",
              "    <tr>\n",
              "      <th>4</th>\n",
              "      <td>546459</td>\n",
              "      <td>treatment</td>\n",
              "      <td>new</td>\n",
              "      <td>4.75</td>\n",
              "      <td>yes</td>\n",
              "      <td>Spanish</td>\n",
              "    </tr>\n",
              "  </tbody>\n",
              "</table>\n",
              "</div>\n",
              "    <div class=\"colab-df-buttons\">\n",
              "\n",
              "  <div class=\"colab-df-container\">\n",
              "    <button class=\"colab-df-convert\" onclick=\"convertToInteractive('df-d57f1e34-d8a0-4fe2-9da7-c38633b063fd')\"\n",
              "            title=\"Convert this dataframe to an interactive table.\"\n",
              "            style=\"display:none;\">\n",
              "\n",
              "  <svg xmlns=\"http://www.w3.org/2000/svg\" height=\"24px\" viewBox=\"0 -960 960 960\">\n",
              "    <path d=\"M120-120v-720h720v720H120Zm60-500h600v-160H180v160Zm220 220h160v-160H400v160Zm0 220h160v-160H400v160ZM180-400h160v-160H180v160Zm440 0h160v-160H620v160ZM180-180h160v-160H180v160Zm440 0h160v-160H620v160Z\"/>\n",
              "  </svg>\n",
              "    </button>\n",
              "\n",
              "  <style>\n",
              "    .colab-df-container {\n",
              "      display:flex;\n",
              "      gap: 12px;\n",
              "    }\n",
              "\n",
              "    .colab-df-convert {\n",
              "      background-color: #E8F0FE;\n",
              "      border: none;\n",
              "      border-radius: 50%;\n",
              "      cursor: pointer;\n",
              "      display: none;\n",
              "      fill: #1967D2;\n",
              "      height: 32px;\n",
              "      padding: 0 0 0 0;\n",
              "      width: 32px;\n",
              "    }\n",
              "\n",
              "    .colab-df-convert:hover {\n",
              "      background-color: #E2EBFA;\n",
              "      box-shadow: 0px 1px 2px rgba(60, 64, 67, 0.3), 0px 1px 3px 1px rgba(60, 64, 67, 0.15);\n",
              "      fill: #174EA6;\n",
              "    }\n",
              "\n",
              "    .colab-df-buttons div {\n",
              "      margin-bottom: 4px;\n",
              "    }\n",
              "\n",
              "    [theme=dark] .colab-df-convert {\n",
              "      background-color: #3B4455;\n",
              "      fill: #D2E3FC;\n",
              "    }\n",
              "\n",
              "    [theme=dark] .colab-df-convert:hover {\n",
              "      background-color: #434B5C;\n",
              "      box-shadow: 0px 1px 3px 1px rgba(0, 0, 0, 0.15);\n",
              "      filter: drop-shadow(0px 1px 2px rgba(0, 0, 0, 0.3));\n",
              "      fill: #FFFFFF;\n",
              "    }\n",
              "  </style>\n",
              "\n",
              "    <script>\n",
              "      const buttonEl =\n",
              "        document.querySelector('#df-d57f1e34-d8a0-4fe2-9da7-c38633b063fd button.colab-df-convert');\n",
              "      buttonEl.style.display =\n",
              "        google.colab.kernel.accessAllowed ? 'block' : 'none';\n",
              "\n",
              "      async function convertToInteractive(key) {\n",
              "        const element = document.querySelector('#df-d57f1e34-d8a0-4fe2-9da7-c38633b063fd');\n",
              "        const dataTable =\n",
              "          await google.colab.kernel.invokeFunction('convertToInteractive',\n",
              "                                                    [key], {});\n",
              "        if (!dataTable) return;\n",
              "\n",
              "        const docLinkHtml = 'Like what you see? Visit the ' +\n",
              "          '<a target=\"_blank\" href=https://colab.research.google.com/notebooks/data_table.ipynb>data table notebook</a>'\n",
              "          + ' to learn more about interactive tables.';\n",
              "        element.innerHTML = '';\n",
              "        dataTable['output_type'] = 'display_data';\n",
              "        await google.colab.output.renderOutput(dataTable, element);\n",
              "        const docLink = document.createElement('div');\n",
              "        docLink.innerHTML = docLinkHtml;\n",
              "        element.appendChild(docLink);\n",
              "      }\n",
              "    </script>\n",
              "  </div>\n",
              "\n",
              "\n",
              "<div id=\"df-39df70f0-7f3f-4f51-afa7-31ccc0a52da3\">\n",
              "  <button class=\"colab-df-quickchart\" onclick=\"quickchart('df-39df70f0-7f3f-4f51-afa7-31ccc0a52da3')\"\n",
              "            title=\"Suggest charts\"\n",
              "            style=\"display:none;\">\n",
              "\n",
              "<svg xmlns=\"http://www.w3.org/2000/svg\" height=\"24px\"viewBox=\"0 0 24 24\"\n",
              "     width=\"24px\">\n",
              "    <g>\n",
              "        <path d=\"M19 3H5c-1.1 0-2 .9-2 2v14c0 1.1.9 2 2 2h14c1.1 0 2-.9 2-2V5c0-1.1-.9-2-2-2zM9 17H7v-7h2v7zm4 0h-2V7h2v10zm4 0h-2v-4h2v4z\"/>\n",
              "    </g>\n",
              "</svg>\n",
              "  </button>\n",
              "\n",
              "<style>\n",
              "  .colab-df-quickchart {\n",
              "      --bg-color: #E8F0FE;\n",
              "      --fill-color: #1967D2;\n",
              "      --hover-bg-color: #E2EBFA;\n",
              "      --hover-fill-color: #174EA6;\n",
              "      --disabled-fill-color: #AAA;\n",
              "      --disabled-bg-color: #DDD;\n",
              "  }\n",
              "\n",
              "  [theme=dark] .colab-df-quickchart {\n",
              "      --bg-color: #3B4455;\n",
              "      --fill-color: #D2E3FC;\n",
              "      --hover-bg-color: #434B5C;\n",
              "      --hover-fill-color: #FFFFFF;\n",
              "      --disabled-bg-color: #3B4455;\n",
              "      --disabled-fill-color: #666;\n",
              "  }\n",
              "\n",
              "  .colab-df-quickchart {\n",
              "    background-color: var(--bg-color);\n",
              "    border: none;\n",
              "    border-radius: 50%;\n",
              "    cursor: pointer;\n",
              "    display: none;\n",
              "    fill: var(--fill-color);\n",
              "    height: 32px;\n",
              "    padding: 0;\n",
              "    width: 32px;\n",
              "  }\n",
              "\n",
              "  .colab-df-quickchart:hover {\n",
              "    background-color: var(--hover-bg-color);\n",
              "    box-shadow: 0 1px 2px rgba(60, 64, 67, 0.3), 0 1px 3px 1px rgba(60, 64, 67, 0.15);\n",
              "    fill: var(--button-hover-fill-color);\n",
              "  }\n",
              "\n",
              "  .colab-df-quickchart-complete:disabled,\n",
              "  .colab-df-quickchart-complete:disabled:hover {\n",
              "    background-color: var(--disabled-bg-color);\n",
              "    fill: var(--disabled-fill-color);\n",
              "    box-shadow: none;\n",
              "  }\n",
              "\n",
              "  .colab-df-spinner {\n",
              "    border: 2px solid var(--fill-color);\n",
              "    border-color: transparent;\n",
              "    border-bottom-color: var(--fill-color);\n",
              "    animation:\n",
              "      spin 1s steps(1) infinite;\n",
              "  }\n",
              "\n",
              "  @keyframes spin {\n",
              "    0% {\n",
              "      border-color: transparent;\n",
              "      border-bottom-color: var(--fill-color);\n",
              "      border-left-color: var(--fill-color);\n",
              "    }\n",
              "    20% {\n",
              "      border-color: transparent;\n",
              "      border-left-color: var(--fill-color);\n",
              "      border-top-color: var(--fill-color);\n",
              "    }\n",
              "    30% {\n",
              "      border-color: transparent;\n",
              "      border-left-color: var(--fill-color);\n",
              "      border-top-color: var(--fill-color);\n",
              "      border-right-color: var(--fill-color);\n",
              "    }\n",
              "    40% {\n",
              "      border-color: transparent;\n",
              "      border-right-color: var(--fill-color);\n",
              "      border-top-color: var(--fill-color);\n",
              "    }\n",
              "    60% {\n",
              "      border-color: transparent;\n",
              "      border-right-color: var(--fill-color);\n",
              "    }\n",
              "    80% {\n",
              "      border-color: transparent;\n",
              "      border-right-color: var(--fill-color);\n",
              "      border-bottom-color: var(--fill-color);\n",
              "    }\n",
              "    90% {\n",
              "      border-color: transparent;\n",
              "      border-bottom-color: var(--fill-color);\n",
              "    }\n",
              "  }\n",
              "</style>\n",
              "\n",
              "  <script>\n",
              "    async function quickchart(key) {\n",
              "      const quickchartButtonEl =\n",
              "        document.querySelector('#' + key + ' button');\n",
              "      quickchartButtonEl.disabled = true;  // To prevent multiple clicks.\n",
              "      quickchartButtonEl.classList.add('colab-df-spinner');\n",
              "      try {\n",
              "        const charts = await google.colab.kernel.invokeFunction(\n",
              "            'suggestCharts', [key], {});\n",
              "      } catch (error) {\n",
              "        console.error('Error during call to suggestCharts:', error);\n",
              "      }\n",
              "      quickchartButtonEl.classList.remove('colab-df-spinner');\n",
              "      quickchartButtonEl.classList.add('colab-df-quickchart-complete');\n",
              "    }\n",
              "    (() => {\n",
              "      let quickchartButtonEl =\n",
              "        document.querySelector('#df-39df70f0-7f3f-4f51-afa7-31ccc0a52da3 button');\n",
              "      quickchartButtonEl.style.display =\n",
              "        google.colab.kernel.accessAllowed ? 'block' : 'none';\n",
              "    })();\n",
              "  </script>\n",
              "</div>\n",
              "\n",
              "    </div>\n",
              "  </div>\n"
            ],
            "application/vnd.google.colaboratory.intrinsic+json": {
              "type": "dataframe",
              "variable_name": "df",
              "summary": "{\n  \"name\": \"df\",\n  \"rows\": 100,\n  \"fields\": [\n    {\n      \"column\": \"user_id\",\n      \"properties\": {\n        \"dtype\": \"number\",\n        \"std\": 52,\n        \"min\": 546443,\n        \"max\": 546592,\n        \"num_unique_values\": 100,\n        \"samples\": [\n          546580,\n          546576,\n          546568\n        ],\n        \"semantic_type\": \"\",\n        \"description\": \"\"\n      }\n    },\n    {\n      \"column\": \"group\",\n      \"properties\": {\n        \"dtype\": \"category\",\n        \"num_unique_values\": 2,\n        \"samples\": [\n          \"treatment\",\n          \"control\"\n        ],\n        \"semantic_type\": \"\",\n        \"description\": \"\"\n      }\n    },\n    {\n      \"column\": \"landing_page\",\n      \"properties\": {\n        \"dtype\": \"category\",\n        \"num_unique_values\": 2,\n        \"samples\": [\n          \"new\",\n          \"old\"\n        ],\n        \"semantic_type\": \"\",\n        \"description\": \"\"\n      }\n    },\n    {\n      \"column\": \"time_spent_on_the_page\",\n      \"properties\": {\n        \"dtype\": \"number\",\n        \"std\": 2.378166078933492,\n        \"min\": 0.19,\n        \"max\": 10.71,\n        \"num_unique_values\": 94,\n        \"samples\": [\n          8.46,\n          3.65\n        ],\n        \"semantic_type\": \"\",\n        \"description\": \"\"\n      }\n    },\n    {\n      \"column\": \"converted\",\n      \"properties\": {\n        \"dtype\": \"category\",\n        \"num_unique_values\": 2,\n        \"samples\": [\n          \"yes\",\n          \"no\"\n        ],\n        \"semantic_type\": \"\",\n        \"description\": \"\"\n      }\n    },\n    {\n      \"column\": \"language_preferred\",\n      \"properties\": {\n        \"dtype\": \"category\",\n        \"num_unique_values\": 3,\n        \"samples\": [\n          \"Spanish\",\n          \"English\"\n        ],\n        \"semantic_type\": \"\",\n        \"description\": \"\"\n      }\n    }\n  ]\n}"
            }
          },
          "metadata": {},
          "execution_count": 68
        }
      ]
    },
    {
      "cell_type": "code",
      "source": [
        "#view last 5 rows of the data frame\n",
        "df.tail()"
      ],
      "metadata": {
        "colab": {
          "base_uri": "https://localhost:8080/",
          "height": 206
        },
        "id": "Xh8Mwi1ZmFTx",
        "outputId": "f3cc4fa6-a6d3-4c76-982d-6bf3df8daac2"
      },
      "id": "Xh8Mwi1ZmFTx",
      "execution_count": null,
      "outputs": [
        {
          "output_type": "execute_result",
          "data": {
            "text/plain": [
              "    user_id      group landing_page  time_spent_on_the_page converted  \\\n",
              "95   546446  treatment          new                    5.15        no   \n",
              "96   546544    control          old                    6.52       yes   \n",
              "97   546472  treatment          new                    7.07       yes   \n",
              "98   546481  treatment          new                    6.20       yes   \n",
              "99   546483  treatment          new                    5.86       yes   \n",
              "\n",
              "   language_preferred  \n",
              "95            Spanish  \n",
              "96            English  \n",
              "97            Spanish  \n",
              "98            Spanish  \n",
              "99            English  "
            ],
            "text/html": [
              "\n",
              "  <div id=\"df-039af292-25c4-4099-9769-6a1f0e073e8d\" class=\"colab-df-container\">\n",
              "    <div>\n",
              "<style scoped>\n",
              "    .dataframe tbody tr th:only-of-type {\n",
              "        vertical-align: middle;\n",
              "    }\n",
              "\n",
              "    .dataframe tbody tr th {\n",
              "        vertical-align: top;\n",
              "    }\n",
              "\n",
              "    .dataframe thead th {\n",
              "        text-align: right;\n",
              "    }\n",
              "</style>\n",
              "<table border=\"1\" class=\"dataframe\">\n",
              "  <thead>\n",
              "    <tr style=\"text-align: right;\">\n",
              "      <th></th>\n",
              "      <th>user_id</th>\n",
              "      <th>group</th>\n",
              "      <th>landing_page</th>\n",
              "      <th>time_spent_on_the_page</th>\n",
              "      <th>converted</th>\n",
              "      <th>language_preferred</th>\n",
              "    </tr>\n",
              "  </thead>\n",
              "  <tbody>\n",
              "    <tr>\n",
              "      <th>95</th>\n",
              "      <td>546446</td>\n",
              "      <td>treatment</td>\n",
              "      <td>new</td>\n",
              "      <td>5.15</td>\n",
              "      <td>no</td>\n",
              "      <td>Spanish</td>\n",
              "    </tr>\n",
              "    <tr>\n",
              "      <th>96</th>\n",
              "      <td>546544</td>\n",
              "      <td>control</td>\n",
              "      <td>old</td>\n",
              "      <td>6.52</td>\n",
              "      <td>yes</td>\n",
              "      <td>English</td>\n",
              "    </tr>\n",
              "    <tr>\n",
              "      <th>97</th>\n",
              "      <td>546472</td>\n",
              "      <td>treatment</td>\n",
              "      <td>new</td>\n",
              "      <td>7.07</td>\n",
              "      <td>yes</td>\n",
              "      <td>Spanish</td>\n",
              "    </tr>\n",
              "    <tr>\n",
              "      <th>98</th>\n",
              "      <td>546481</td>\n",
              "      <td>treatment</td>\n",
              "      <td>new</td>\n",
              "      <td>6.20</td>\n",
              "      <td>yes</td>\n",
              "      <td>Spanish</td>\n",
              "    </tr>\n",
              "    <tr>\n",
              "      <th>99</th>\n",
              "      <td>546483</td>\n",
              "      <td>treatment</td>\n",
              "      <td>new</td>\n",
              "      <td>5.86</td>\n",
              "      <td>yes</td>\n",
              "      <td>English</td>\n",
              "    </tr>\n",
              "  </tbody>\n",
              "</table>\n",
              "</div>\n",
              "    <div class=\"colab-df-buttons\">\n",
              "\n",
              "  <div class=\"colab-df-container\">\n",
              "    <button class=\"colab-df-convert\" onclick=\"convertToInteractive('df-039af292-25c4-4099-9769-6a1f0e073e8d')\"\n",
              "            title=\"Convert this dataframe to an interactive table.\"\n",
              "            style=\"display:none;\">\n",
              "\n",
              "  <svg xmlns=\"http://www.w3.org/2000/svg\" height=\"24px\" viewBox=\"0 -960 960 960\">\n",
              "    <path d=\"M120-120v-720h720v720H120Zm60-500h600v-160H180v160Zm220 220h160v-160H400v160Zm0 220h160v-160H400v160ZM180-400h160v-160H180v160Zm440 0h160v-160H620v160ZM180-180h160v-160H180v160Zm440 0h160v-160H620v160Z\"/>\n",
              "  </svg>\n",
              "    </button>\n",
              "\n",
              "  <style>\n",
              "    .colab-df-container {\n",
              "      display:flex;\n",
              "      gap: 12px;\n",
              "    }\n",
              "\n",
              "    .colab-df-convert {\n",
              "      background-color: #E8F0FE;\n",
              "      border: none;\n",
              "      border-radius: 50%;\n",
              "      cursor: pointer;\n",
              "      display: none;\n",
              "      fill: #1967D2;\n",
              "      height: 32px;\n",
              "      padding: 0 0 0 0;\n",
              "      width: 32px;\n",
              "    }\n",
              "\n",
              "    .colab-df-convert:hover {\n",
              "      background-color: #E2EBFA;\n",
              "      box-shadow: 0px 1px 2px rgba(60, 64, 67, 0.3), 0px 1px 3px 1px rgba(60, 64, 67, 0.15);\n",
              "      fill: #174EA6;\n",
              "    }\n",
              "\n",
              "    .colab-df-buttons div {\n",
              "      margin-bottom: 4px;\n",
              "    }\n",
              "\n",
              "    [theme=dark] .colab-df-convert {\n",
              "      background-color: #3B4455;\n",
              "      fill: #D2E3FC;\n",
              "    }\n",
              "\n",
              "    [theme=dark] .colab-df-convert:hover {\n",
              "      background-color: #434B5C;\n",
              "      box-shadow: 0px 1px 3px 1px rgba(0, 0, 0, 0.15);\n",
              "      filter: drop-shadow(0px 1px 2px rgba(0, 0, 0, 0.3));\n",
              "      fill: #FFFFFF;\n",
              "    }\n",
              "  </style>\n",
              "\n",
              "    <script>\n",
              "      const buttonEl =\n",
              "        document.querySelector('#df-039af292-25c4-4099-9769-6a1f0e073e8d button.colab-df-convert');\n",
              "      buttonEl.style.display =\n",
              "        google.colab.kernel.accessAllowed ? 'block' : 'none';\n",
              "\n",
              "      async function convertToInteractive(key) {\n",
              "        const element = document.querySelector('#df-039af292-25c4-4099-9769-6a1f0e073e8d');\n",
              "        const dataTable =\n",
              "          await google.colab.kernel.invokeFunction('convertToInteractive',\n",
              "                                                    [key], {});\n",
              "        if (!dataTable) return;\n",
              "\n",
              "        const docLinkHtml = 'Like what you see? Visit the ' +\n",
              "          '<a target=\"_blank\" href=https://colab.research.google.com/notebooks/data_table.ipynb>data table notebook</a>'\n",
              "          + ' to learn more about interactive tables.';\n",
              "        element.innerHTML = '';\n",
              "        dataTable['output_type'] = 'display_data';\n",
              "        await google.colab.output.renderOutput(dataTable, element);\n",
              "        const docLink = document.createElement('div');\n",
              "        docLink.innerHTML = docLinkHtml;\n",
              "        element.appendChild(docLink);\n",
              "      }\n",
              "    </script>\n",
              "  </div>\n",
              "\n",
              "\n",
              "<div id=\"df-c8cd7f41-42ea-4e9c-bf13-f15f1ea116c9\">\n",
              "  <button class=\"colab-df-quickchart\" onclick=\"quickchart('df-c8cd7f41-42ea-4e9c-bf13-f15f1ea116c9')\"\n",
              "            title=\"Suggest charts\"\n",
              "            style=\"display:none;\">\n",
              "\n",
              "<svg xmlns=\"http://www.w3.org/2000/svg\" height=\"24px\"viewBox=\"0 0 24 24\"\n",
              "     width=\"24px\">\n",
              "    <g>\n",
              "        <path d=\"M19 3H5c-1.1 0-2 .9-2 2v14c0 1.1.9 2 2 2h14c1.1 0 2-.9 2-2V5c0-1.1-.9-2-2-2zM9 17H7v-7h2v7zm4 0h-2V7h2v10zm4 0h-2v-4h2v4z\"/>\n",
              "    </g>\n",
              "</svg>\n",
              "  </button>\n",
              "\n",
              "<style>\n",
              "  .colab-df-quickchart {\n",
              "      --bg-color: #E8F0FE;\n",
              "      --fill-color: #1967D2;\n",
              "      --hover-bg-color: #E2EBFA;\n",
              "      --hover-fill-color: #174EA6;\n",
              "      --disabled-fill-color: #AAA;\n",
              "      --disabled-bg-color: #DDD;\n",
              "  }\n",
              "\n",
              "  [theme=dark] .colab-df-quickchart {\n",
              "      --bg-color: #3B4455;\n",
              "      --fill-color: #D2E3FC;\n",
              "      --hover-bg-color: #434B5C;\n",
              "      --hover-fill-color: #FFFFFF;\n",
              "      --disabled-bg-color: #3B4455;\n",
              "      --disabled-fill-color: #666;\n",
              "  }\n",
              "\n",
              "  .colab-df-quickchart {\n",
              "    background-color: var(--bg-color);\n",
              "    border: none;\n",
              "    border-radius: 50%;\n",
              "    cursor: pointer;\n",
              "    display: none;\n",
              "    fill: var(--fill-color);\n",
              "    height: 32px;\n",
              "    padding: 0;\n",
              "    width: 32px;\n",
              "  }\n",
              "\n",
              "  .colab-df-quickchart:hover {\n",
              "    background-color: var(--hover-bg-color);\n",
              "    box-shadow: 0 1px 2px rgba(60, 64, 67, 0.3), 0 1px 3px 1px rgba(60, 64, 67, 0.15);\n",
              "    fill: var(--button-hover-fill-color);\n",
              "  }\n",
              "\n",
              "  .colab-df-quickchart-complete:disabled,\n",
              "  .colab-df-quickchart-complete:disabled:hover {\n",
              "    background-color: var(--disabled-bg-color);\n",
              "    fill: var(--disabled-fill-color);\n",
              "    box-shadow: none;\n",
              "  }\n",
              "\n",
              "  .colab-df-spinner {\n",
              "    border: 2px solid var(--fill-color);\n",
              "    border-color: transparent;\n",
              "    border-bottom-color: var(--fill-color);\n",
              "    animation:\n",
              "      spin 1s steps(1) infinite;\n",
              "  }\n",
              "\n",
              "  @keyframes spin {\n",
              "    0% {\n",
              "      border-color: transparent;\n",
              "      border-bottom-color: var(--fill-color);\n",
              "      border-left-color: var(--fill-color);\n",
              "    }\n",
              "    20% {\n",
              "      border-color: transparent;\n",
              "      border-left-color: var(--fill-color);\n",
              "      border-top-color: var(--fill-color);\n",
              "    }\n",
              "    30% {\n",
              "      border-color: transparent;\n",
              "      border-left-color: var(--fill-color);\n",
              "      border-top-color: var(--fill-color);\n",
              "      border-right-color: var(--fill-color);\n",
              "    }\n",
              "    40% {\n",
              "      border-color: transparent;\n",
              "      border-right-color: var(--fill-color);\n",
              "      border-top-color: var(--fill-color);\n",
              "    }\n",
              "    60% {\n",
              "      border-color: transparent;\n",
              "      border-right-color: var(--fill-color);\n",
              "    }\n",
              "    80% {\n",
              "      border-color: transparent;\n",
              "      border-right-color: var(--fill-color);\n",
              "      border-bottom-color: var(--fill-color);\n",
              "    }\n",
              "    90% {\n",
              "      border-color: transparent;\n",
              "      border-bottom-color: var(--fill-color);\n",
              "    }\n",
              "  }\n",
              "</style>\n",
              "\n",
              "  <script>\n",
              "    async function quickchart(key) {\n",
              "      const quickchartButtonEl =\n",
              "        document.querySelector('#' + key + ' button');\n",
              "      quickchartButtonEl.disabled = true;  // To prevent multiple clicks.\n",
              "      quickchartButtonEl.classList.add('colab-df-spinner');\n",
              "      try {\n",
              "        const charts = await google.colab.kernel.invokeFunction(\n",
              "            'suggestCharts', [key], {});\n",
              "      } catch (error) {\n",
              "        console.error('Error during call to suggestCharts:', error);\n",
              "      }\n",
              "      quickchartButtonEl.classList.remove('colab-df-spinner');\n",
              "      quickchartButtonEl.classList.add('colab-df-quickchart-complete');\n",
              "    }\n",
              "    (() => {\n",
              "      let quickchartButtonEl =\n",
              "        document.querySelector('#df-c8cd7f41-42ea-4e9c-bf13-f15f1ea116c9 button');\n",
              "      quickchartButtonEl.style.display =\n",
              "        google.colab.kernel.accessAllowed ? 'block' : 'none';\n",
              "    })();\n",
              "  </script>\n",
              "</div>\n",
              "\n",
              "    </div>\n",
              "  </div>\n"
            ],
            "application/vnd.google.colaboratory.intrinsic+json": {
              "type": "dataframe",
              "summary": "{\n  \"name\": \"df\",\n  \"rows\": 5,\n  \"fields\": [\n    {\n      \"column\": \"user_id\",\n      \"properties\": {\n        \"dtype\": \"number\",\n        \"std\": 36,\n        \"min\": 546446,\n        \"max\": 546544,\n        \"num_unique_values\": 5,\n        \"samples\": [\n          546544,\n          546483,\n          546472\n        ],\n        \"semantic_type\": \"\",\n        \"description\": \"\"\n      }\n    },\n    {\n      \"column\": \"group\",\n      \"properties\": {\n        \"dtype\": \"category\",\n        \"num_unique_values\": 2,\n        \"samples\": [\n          \"control\",\n          \"treatment\"\n        ],\n        \"semantic_type\": \"\",\n        \"description\": \"\"\n      }\n    },\n    {\n      \"column\": \"landing_page\",\n      \"properties\": {\n        \"dtype\": \"category\",\n        \"num_unique_values\": 2,\n        \"samples\": [\n          \"old\",\n          \"new\"\n        ],\n        \"semantic_type\": \"\",\n        \"description\": \"\"\n      }\n    },\n    {\n      \"column\": \"time_spent_on_the_page\",\n      \"properties\": {\n        \"dtype\": \"number\",\n        \"std\": 0.7192704637339141,\n        \"min\": 5.15,\n        \"max\": 7.07,\n        \"num_unique_values\": 5,\n        \"samples\": [\n          6.52,\n          5.86\n        ],\n        \"semantic_type\": \"\",\n        \"description\": \"\"\n      }\n    },\n    {\n      \"column\": \"converted\",\n      \"properties\": {\n        \"dtype\": \"category\",\n        \"num_unique_values\": 2,\n        \"samples\": [\n          \"yes\",\n          \"no\"\n        ],\n        \"semantic_type\": \"\",\n        \"description\": \"\"\n      }\n    },\n    {\n      \"column\": \"language_preferred\",\n      \"properties\": {\n        \"dtype\": \"category\",\n        \"num_unique_values\": 2,\n        \"samples\": [\n          \"English\",\n          \"Spanish\"\n        ],\n        \"semantic_type\": \"\",\n        \"description\": \"\"\n      }\n    }\n  ]\n}"
            }
          },
          "metadata": {},
          "execution_count": 69
        }
      ]
    },
    {
      "cell_type": "code",
      "source": [
        "#Indicate how many rows and columns there are\n",
        "print('There are', df.shape[0], 'rows and', df.shape[1], 'columns in the data frame.')"
      ],
      "metadata": {
        "colab": {
          "base_uri": "https://localhost:8080/"
        },
        "id": "QHpKcBsdmP9r",
        "outputId": "d3e7648a-4fb7-49f7-de7d-0dba0ea2aa60"
      },
      "id": "QHpKcBsdmP9r",
      "execution_count": null,
      "outputs": [
        {
          "output_type": "stream",
          "name": "stdout",
          "text": [
            "There are 100 rows and 6 columns in the data frame.\n"
          ]
        }
      ]
    },
    {
      "cell_type": "code",
      "source": [
        "#Review data types\n",
        "df.info()"
      ],
      "metadata": {
        "colab": {
          "base_uri": "https://localhost:8080/"
        },
        "id": "muaLcFQRm29L",
        "outputId": "15881fef-769c-4120-fb74-648087c496e0"
      },
      "id": "muaLcFQRm29L",
      "execution_count": null,
      "outputs": [
        {
          "output_type": "stream",
          "name": "stdout",
          "text": [
            "<class 'pandas.core.frame.DataFrame'>\n",
            "RangeIndex: 100 entries, 0 to 99\n",
            "Data columns (total 6 columns):\n",
            " #   Column                  Non-Null Count  Dtype  \n",
            "---  ------                  --------------  -----  \n",
            " 0   user_id                 100 non-null    int64  \n",
            " 1   group                   100 non-null    object \n",
            " 2   landing_page            100 non-null    object \n",
            " 3   time_spent_on_the_page  100 non-null    float64\n",
            " 4   converted               100 non-null    object \n",
            " 5   language_preferred      100 non-null    object \n",
            "dtypes: float64(1), int64(1), object(4)\n",
            "memory usage: 4.8+ KB\n"
          ]
        }
      ]
    },
    {
      "cell_type": "code",
      "source": [
        "#Review statistical summary\n",
        "df.describe(include='all').T"
      ],
      "metadata": {
        "colab": {
          "base_uri": "https://localhost:8080/",
          "height": 257
        },
        "id": "pIvcyexDnB5k",
        "outputId": "f98c15bc-0c29-474c-d93f-dfbda4043ce2"
      },
      "id": "pIvcyexDnB5k",
      "execution_count": null,
      "outputs": [
        {
          "output_type": "execute_result",
          "data": {
            "text/plain": [
              "                        count unique      top freq      mean        std  \\\n",
              "user_id                 100.0    NaN      NaN  NaN  546517.0  52.295779   \n",
              "group                     100      2  control   50       NaN        NaN   \n",
              "landing_page              100      2      old   50       NaN        NaN   \n",
              "time_spent_on_the_page  100.0    NaN      NaN  NaN    5.3778   2.378166   \n",
              "converted                 100      2      yes   54       NaN        NaN   \n",
              "language_preferred        100      3  Spanish   34       NaN        NaN   \n",
              "\n",
              "                             min        25%       50%        75%       max  \n",
              "user_id                 546443.0  546467.75  546492.5  546567.25  546592.0  \n",
              "group                        NaN        NaN       NaN        NaN       NaN  \n",
              "landing_page                 NaN        NaN       NaN        NaN       NaN  \n",
              "time_spent_on_the_page      0.19       3.88     5.415     7.0225     10.71  \n",
              "converted                    NaN        NaN       NaN        NaN       NaN  \n",
              "language_preferred           NaN        NaN       NaN        NaN       NaN  "
            ],
            "text/html": [
              "\n",
              "  <div id=\"df-410ef302-9110-44df-bab1-2732457e2501\" class=\"colab-df-container\">\n",
              "    <div>\n",
              "<style scoped>\n",
              "    .dataframe tbody tr th:only-of-type {\n",
              "        vertical-align: middle;\n",
              "    }\n",
              "\n",
              "    .dataframe tbody tr th {\n",
              "        vertical-align: top;\n",
              "    }\n",
              "\n",
              "    .dataframe thead th {\n",
              "        text-align: right;\n",
              "    }\n",
              "</style>\n",
              "<table border=\"1\" class=\"dataframe\">\n",
              "  <thead>\n",
              "    <tr style=\"text-align: right;\">\n",
              "      <th></th>\n",
              "      <th>count</th>\n",
              "      <th>unique</th>\n",
              "      <th>top</th>\n",
              "      <th>freq</th>\n",
              "      <th>mean</th>\n",
              "      <th>std</th>\n",
              "      <th>min</th>\n",
              "      <th>25%</th>\n",
              "      <th>50%</th>\n",
              "      <th>75%</th>\n",
              "      <th>max</th>\n",
              "    </tr>\n",
              "  </thead>\n",
              "  <tbody>\n",
              "    <tr>\n",
              "      <th>user_id</th>\n",
              "      <td>100.0</td>\n",
              "      <td>NaN</td>\n",
              "      <td>NaN</td>\n",
              "      <td>NaN</td>\n",
              "      <td>546517.0</td>\n",
              "      <td>52.295779</td>\n",
              "      <td>546443.0</td>\n",
              "      <td>546467.75</td>\n",
              "      <td>546492.5</td>\n",
              "      <td>546567.25</td>\n",
              "      <td>546592.0</td>\n",
              "    </tr>\n",
              "    <tr>\n",
              "      <th>group</th>\n",
              "      <td>100</td>\n",
              "      <td>2</td>\n",
              "      <td>control</td>\n",
              "      <td>50</td>\n",
              "      <td>NaN</td>\n",
              "      <td>NaN</td>\n",
              "      <td>NaN</td>\n",
              "      <td>NaN</td>\n",
              "      <td>NaN</td>\n",
              "      <td>NaN</td>\n",
              "      <td>NaN</td>\n",
              "    </tr>\n",
              "    <tr>\n",
              "      <th>landing_page</th>\n",
              "      <td>100</td>\n",
              "      <td>2</td>\n",
              "      <td>old</td>\n",
              "      <td>50</td>\n",
              "      <td>NaN</td>\n",
              "      <td>NaN</td>\n",
              "      <td>NaN</td>\n",
              "      <td>NaN</td>\n",
              "      <td>NaN</td>\n",
              "      <td>NaN</td>\n",
              "      <td>NaN</td>\n",
              "    </tr>\n",
              "    <tr>\n",
              "      <th>time_spent_on_the_page</th>\n",
              "      <td>100.0</td>\n",
              "      <td>NaN</td>\n",
              "      <td>NaN</td>\n",
              "      <td>NaN</td>\n",
              "      <td>5.3778</td>\n",
              "      <td>2.378166</td>\n",
              "      <td>0.19</td>\n",
              "      <td>3.88</td>\n",
              "      <td>5.415</td>\n",
              "      <td>7.0225</td>\n",
              "      <td>10.71</td>\n",
              "    </tr>\n",
              "    <tr>\n",
              "      <th>converted</th>\n",
              "      <td>100</td>\n",
              "      <td>2</td>\n",
              "      <td>yes</td>\n",
              "      <td>54</td>\n",
              "      <td>NaN</td>\n",
              "      <td>NaN</td>\n",
              "      <td>NaN</td>\n",
              "      <td>NaN</td>\n",
              "      <td>NaN</td>\n",
              "      <td>NaN</td>\n",
              "      <td>NaN</td>\n",
              "    </tr>\n",
              "    <tr>\n",
              "      <th>language_preferred</th>\n",
              "      <td>100</td>\n",
              "      <td>3</td>\n",
              "      <td>Spanish</td>\n",
              "      <td>34</td>\n",
              "      <td>NaN</td>\n",
              "      <td>NaN</td>\n",
              "      <td>NaN</td>\n",
              "      <td>NaN</td>\n",
              "      <td>NaN</td>\n",
              "      <td>NaN</td>\n",
              "      <td>NaN</td>\n",
              "    </tr>\n",
              "  </tbody>\n",
              "</table>\n",
              "</div>\n",
              "    <div class=\"colab-df-buttons\">\n",
              "\n",
              "  <div class=\"colab-df-container\">\n",
              "    <button class=\"colab-df-convert\" onclick=\"convertToInteractive('df-410ef302-9110-44df-bab1-2732457e2501')\"\n",
              "            title=\"Convert this dataframe to an interactive table.\"\n",
              "            style=\"display:none;\">\n",
              "\n",
              "  <svg xmlns=\"http://www.w3.org/2000/svg\" height=\"24px\" viewBox=\"0 -960 960 960\">\n",
              "    <path d=\"M120-120v-720h720v720H120Zm60-500h600v-160H180v160Zm220 220h160v-160H400v160Zm0 220h160v-160H400v160ZM180-400h160v-160H180v160Zm440 0h160v-160H620v160ZM180-180h160v-160H180v160Zm440 0h160v-160H620v160Z\"/>\n",
              "  </svg>\n",
              "    </button>\n",
              "\n",
              "  <style>\n",
              "    .colab-df-container {\n",
              "      display:flex;\n",
              "      gap: 12px;\n",
              "    }\n",
              "\n",
              "    .colab-df-convert {\n",
              "      background-color: #E8F0FE;\n",
              "      border: none;\n",
              "      border-radius: 50%;\n",
              "      cursor: pointer;\n",
              "      display: none;\n",
              "      fill: #1967D2;\n",
              "      height: 32px;\n",
              "      padding: 0 0 0 0;\n",
              "      width: 32px;\n",
              "    }\n",
              "\n",
              "    .colab-df-convert:hover {\n",
              "      background-color: #E2EBFA;\n",
              "      box-shadow: 0px 1px 2px rgba(60, 64, 67, 0.3), 0px 1px 3px 1px rgba(60, 64, 67, 0.15);\n",
              "      fill: #174EA6;\n",
              "    }\n",
              "\n",
              "    .colab-df-buttons div {\n",
              "      margin-bottom: 4px;\n",
              "    }\n",
              "\n",
              "    [theme=dark] .colab-df-convert {\n",
              "      background-color: #3B4455;\n",
              "      fill: #D2E3FC;\n",
              "    }\n",
              "\n",
              "    [theme=dark] .colab-df-convert:hover {\n",
              "      background-color: #434B5C;\n",
              "      box-shadow: 0px 1px 3px 1px rgba(0, 0, 0, 0.15);\n",
              "      filter: drop-shadow(0px 1px 2px rgba(0, 0, 0, 0.3));\n",
              "      fill: #FFFFFF;\n",
              "    }\n",
              "  </style>\n",
              "\n",
              "    <script>\n",
              "      const buttonEl =\n",
              "        document.querySelector('#df-410ef302-9110-44df-bab1-2732457e2501 button.colab-df-convert');\n",
              "      buttonEl.style.display =\n",
              "        google.colab.kernel.accessAllowed ? 'block' : 'none';\n",
              "\n",
              "      async function convertToInteractive(key) {\n",
              "        const element = document.querySelector('#df-410ef302-9110-44df-bab1-2732457e2501');\n",
              "        const dataTable =\n",
              "          await google.colab.kernel.invokeFunction('convertToInteractive',\n",
              "                                                    [key], {});\n",
              "        if (!dataTable) return;\n",
              "\n",
              "        const docLinkHtml = 'Like what you see? Visit the ' +\n",
              "          '<a target=\"_blank\" href=https://colab.research.google.com/notebooks/data_table.ipynb>data table notebook</a>'\n",
              "          + ' to learn more about interactive tables.';\n",
              "        element.innerHTML = '';\n",
              "        dataTable['output_type'] = 'display_data';\n",
              "        await google.colab.output.renderOutput(dataTable, element);\n",
              "        const docLink = document.createElement('div');\n",
              "        docLink.innerHTML = docLinkHtml;\n",
              "        element.appendChild(docLink);\n",
              "      }\n",
              "    </script>\n",
              "  </div>\n",
              "\n",
              "\n",
              "<div id=\"df-9156e93c-e37e-45e8-8467-ed51c68b15a6\">\n",
              "  <button class=\"colab-df-quickchart\" onclick=\"quickchart('df-9156e93c-e37e-45e8-8467-ed51c68b15a6')\"\n",
              "            title=\"Suggest charts\"\n",
              "            style=\"display:none;\">\n",
              "\n",
              "<svg xmlns=\"http://www.w3.org/2000/svg\" height=\"24px\"viewBox=\"0 0 24 24\"\n",
              "     width=\"24px\">\n",
              "    <g>\n",
              "        <path d=\"M19 3H5c-1.1 0-2 .9-2 2v14c0 1.1.9 2 2 2h14c1.1 0 2-.9 2-2V5c0-1.1-.9-2-2-2zM9 17H7v-7h2v7zm4 0h-2V7h2v10zm4 0h-2v-4h2v4z\"/>\n",
              "    </g>\n",
              "</svg>\n",
              "  </button>\n",
              "\n",
              "<style>\n",
              "  .colab-df-quickchart {\n",
              "      --bg-color: #E8F0FE;\n",
              "      --fill-color: #1967D2;\n",
              "      --hover-bg-color: #E2EBFA;\n",
              "      --hover-fill-color: #174EA6;\n",
              "      --disabled-fill-color: #AAA;\n",
              "      --disabled-bg-color: #DDD;\n",
              "  }\n",
              "\n",
              "  [theme=dark] .colab-df-quickchart {\n",
              "      --bg-color: #3B4455;\n",
              "      --fill-color: #D2E3FC;\n",
              "      --hover-bg-color: #434B5C;\n",
              "      --hover-fill-color: #FFFFFF;\n",
              "      --disabled-bg-color: #3B4455;\n",
              "      --disabled-fill-color: #666;\n",
              "  }\n",
              "\n",
              "  .colab-df-quickchart {\n",
              "    background-color: var(--bg-color);\n",
              "    border: none;\n",
              "    border-radius: 50%;\n",
              "    cursor: pointer;\n",
              "    display: none;\n",
              "    fill: var(--fill-color);\n",
              "    height: 32px;\n",
              "    padding: 0;\n",
              "    width: 32px;\n",
              "  }\n",
              "\n",
              "  .colab-df-quickchart:hover {\n",
              "    background-color: var(--hover-bg-color);\n",
              "    box-shadow: 0 1px 2px rgba(60, 64, 67, 0.3), 0 1px 3px 1px rgba(60, 64, 67, 0.15);\n",
              "    fill: var(--button-hover-fill-color);\n",
              "  }\n",
              "\n",
              "  .colab-df-quickchart-complete:disabled,\n",
              "  .colab-df-quickchart-complete:disabled:hover {\n",
              "    background-color: var(--disabled-bg-color);\n",
              "    fill: var(--disabled-fill-color);\n",
              "    box-shadow: none;\n",
              "  }\n",
              "\n",
              "  .colab-df-spinner {\n",
              "    border: 2px solid var(--fill-color);\n",
              "    border-color: transparent;\n",
              "    border-bottom-color: var(--fill-color);\n",
              "    animation:\n",
              "      spin 1s steps(1) infinite;\n",
              "  }\n",
              "\n",
              "  @keyframes spin {\n",
              "    0% {\n",
              "      border-color: transparent;\n",
              "      border-bottom-color: var(--fill-color);\n",
              "      border-left-color: var(--fill-color);\n",
              "    }\n",
              "    20% {\n",
              "      border-color: transparent;\n",
              "      border-left-color: var(--fill-color);\n",
              "      border-top-color: var(--fill-color);\n",
              "    }\n",
              "    30% {\n",
              "      border-color: transparent;\n",
              "      border-left-color: var(--fill-color);\n",
              "      border-top-color: var(--fill-color);\n",
              "      border-right-color: var(--fill-color);\n",
              "    }\n",
              "    40% {\n",
              "      border-color: transparent;\n",
              "      border-right-color: var(--fill-color);\n",
              "      border-top-color: var(--fill-color);\n",
              "    }\n",
              "    60% {\n",
              "      border-color: transparent;\n",
              "      border-right-color: var(--fill-color);\n",
              "    }\n",
              "    80% {\n",
              "      border-color: transparent;\n",
              "      border-right-color: var(--fill-color);\n",
              "      border-bottom-color: var(--fill-color);\n",
              "    }\n",
              "    90% {\n",
              "      border-color: transparent;\n",
              "      border-bottom-color: var(--fill-color);\n",
              "    }\n",
              "  }\n",
              "</style>\n",
              "\n",
              "  <script>\n",
              "    async function quickchart(key) {\n",
              "      const quickchartButtonEl =\n",
              "        document.querySelector('#' + key + ' button');\n",
              "      quickchartButtonEl.disabled = true;  // To prevent multiple clicks.\n",
              "      quickchartButtonEl.classList.add('colab-df-spinner');\n",
              "      try {\n",
              "        const charts = await google.colab.kernel.invokeFunction(\n",
              "            'suggestCharts', [key], {});\n",
              "      } catch (error) {\n",
              "        console.error('Error during call to suggestCharts:', error);\n",
              "      }\n",
              "      quickchartButtonEl.classList.remove('colab-df-spinner');\n",
              "      quickchartButtonEl.classList.add('colab-df-quickchart-complete');\n",
              "    }\n",
              "    (() => {\n",
              "      let quickchartButtonEl =\n",
              "        document.querySelector('#df-9156e93c-e37e-45e8-8467-ed51c68b15a6 button');\n",
              "      quickchartButtonEl.style.display =\n",
              "        google.colab.kernel.accessAllowed ? 'block' : 'none';\n",
              "    })();\n",
              "  </script>\n",
              "</div>\n",
              "\n",
              "    </div>\n",
              "  </div>\n"
            ],
            "application/vnd.google.colaboratory.intrinsic+json": {
              "type": "dataframe",
              "summary": "{\n  \"name\": \"df\",\n  \"rows\": 6,\n  \"fields\": [\n    {\n      \"column\": \"count\",\n      \"properties\": {\n        \"dtype\": \"date\",\n        \"min\": 100.0,\n        \"max\": 100.0,\n        \"num_unique_values\": 1,\n        \"samples\": [\n          100.0\n        ],\n        \"semantic_type\": \"\",\n        \"description\": \"\"\n      }\n    },\n    {\n      \"column\": \"unique\",\n      \"properties\": {\n        \"dtype\": \"date\",\n        \"min\": 2,\n        \"max\": 3,\n        \"num_unique_values\": 2,\n        \"samples\": [\n          3\n        ],\n        \"semantic_type\": \"\",\n        \"description\": \"\"\n      }\n    },\n    {\n      \"column\": \"top\",\n      \"properties\": {\n        \"dtype\": \"string\",\n        \"num_unique_values\": 4,\n        \"samples\": [\n          \"old\"\n        ],\n        \"semantic_type\": \"\",\n        \"description\": \"\"\n      }\n    },\n    {\n      \"column\": \"freq\",\n      \"properties\": {\n        \"dtype\": \"date\",\n        \"min\": \"34\",\n        \"max\": \"54\",\n        \"num_unique_values\": 3,\n        \"samples\": [\n          \"50\"\n        ],\n        \"semantic_type\": \"\",\n        \"description\": \"\"\n      }\n    },\n    {\n      \"column\": \"mean\",\n      \"properties\": {\n        \"dtype\": \"date\",\n        \"min\": 5.377800000000001,\n        \"max\": 546517.0,\n        \"num_unique_values\": 2,\n        \"samples\": [\n          5.377800000000001\n        ],\n        \"semantic_type\": \"\",\n        \"description\": \"\"\n      }\n    },\n    {\n      \"column\": \"std\",\n      \"properties\": {\n        \"dtype\": \"date\",\n        \"min\": 2.378166078933492,\n        \"max\": 52.29577884350213,\n        \"num_unique_values\": 2,\n        \"samples\": [\n          2.378166078933492\n        ],\n        \"semantic_type\": \"\",\n        \"description\": \"\"\n      }\n    },\n    {\n      \"column\": \"min\",\n      \"properties\": {\n        \"dtype\": \"date\",\n        \"min\": 0.19,\n        \"max\": 546443.0,\n        \"num_unique_values\": 2,\n        \"samples\": [\n          0.19\n        ],\n        \"semantic_type\": \"\",\n        \"description\": \"\"\n      }\n    },\n    {\n      \"column\": \"25%\",\n      \"properties\": {\n        \"dtype\": \"date\",\n        \"min\": 3.88,\n        \"max\": 546467.75,\n        \"num_unique_values\": 2,\n        \"samples\": [\n          3.88\n        ],\n        \"semantic_type\": \"\",\n        \"description\": \"\"\n      }\n    },\n    {\n      \"column\": \"50%\",\n      \"properties\": {\n        \"dtype\": \"date\",\n        \"min\": 5.415,\n        \"max\": 546492.5,\n        \"num_unique_values\": 2,\n        \"samples\": [\n          5.415\n        ],\n        \"semantic_type\": \"\",\n        \"description\": \"\"\n      }\n    },\n    {\n      \"column\": \"75%\",\n      \"properties\": {\n        \"dtype\": \"date\",\n        \"min\": 7.0225,\n        \"max\": 546567.25,\n        \"num_unique_values\": 2,\n        \"samples\": [\n          7.0225\n        ],\n        \"semantic_type\": \"\",\n        \"description\": \"\"\n      }\n    },\n    {\n      \"column\": \"max\",\n      \"properties\": {\n        \"dtype\": \"date\",\n        \"min\": 10.71,\n        \"max\": 546592.0,\n        \"num_unique_values\": 2,\n        \"samples\": [\n          10.71\n        ],\n        \"semantic_type\": \"\",\n        \"description\": \"\"\n      }\n    }\n  ]\n}"
            }
          },
          "metadata": {},
          "execution_count": 72
        }
      ]
    },
    {
      "cell_type": "markdown",
      "source": [
        "Observations:\n",
        "- There are no null values or duplicated entries.\n",
        "- User ID is an integer data type, time spent is a float64 data type, group, landing page, converted and language preferred are of the object data type.\n",
        "- The dataframe contains information for 100 users.\n",
        "- There are 3 possible languages, with the most frequent being Spanish and French (later discovered in univariate analysis).\n",
        "- For time spent on a page, the mean value is close to the median value, indicating a symmetrical distribution.\n",
        "- The minimum amount of time spent on a page is 0.19 minutes and the maximum amount of time spent is 10.71 minutes.\n",
        "- Overall, 54% of the users converted."
      ],
      "metadata": {
        "id": "_2dVF1bZrTQq"
      },
      "id": "_2dVF1bZrTQq"
    },
    {
      "cell_type": "code",
      "source": [
        "#Check for null values\n",
        "df.isnull().sum()"
      ],
      "metadata": {
        "colab": {
          "base_uri": "https://localhost:8080/",
          "height": 272
        },
        "id": "N_LlGpPMn51M",
        "outputId": "f258bf5b-993a-4c96-bfb7-9710099aa110"
      },
      "id": "N_LlGpPMn51M",
      "execution_count": null,
      "outputs": [
        {
          "output_type": "execute_result",
          "data": {
            "text/plain": [
              "user_id                   0\n",
              "group                     0\n",
              "landing_page              0\n",
              "time_spent_on_the_page    0\n",
              "converted                 0\n",
              "language_preferred        0\n",
              "dtype: int64"
            ],
            "text/html": [
              "<div>\n",
              "<style scoped>\n",
              "    .dataframe tbody tr th:only-of-type {\n",
              "        vertical-align: middle;\n",
              "    }\n",
              "\n",
              "    .dataframe tbody tr th {\n",
              "        vertical-align: top;\n",
              "    }\n",
              "\n",
              "    .dataframe thead th {\n",
              "        text-align: right;\n",
              "    }\n",
              "</style>\n",
              "<table border=\"1\" class=\"dataframe\">\n",
              "  <thead>\n",
              "    <tr style=\"text-align: right;\">\n",
              "      <th></th>\n",
              "      <th>0</th>\n",
              "    </tr>\n",
              "  </thead>\n",
              "  <tbody>\n",
              "    <tr>\n",
              "      <th>user_id</th>\n",
              "      <td>0</td>\n",
              "    </tr>\n",
              "    <tr>\n",
              "      <th>group</th>\n",
              "      <td>0</td>\n",
              "    </tr>\n",
              "    <tr>\n",
              "      <th>landing_page</th>\n",
              "      <td>0</td>\n",
              "    </tr>\n",
              "    <tr>\n",
              "      <th>time_spent_on_the_page</th>\n",
              "      <td>0</td>\n",
              "    </tr>\n",
              "    <tr>\n",
              "      <th>converted</th>\n",
              "      <td>0</td>\n",
              "    </tr>\n",
              "    <tr>\n",
              "      <th>language_preferred</th>\n",
              "      <td>0</td>\n",
              "    </tr>\n",
              "  </tbody>\n",
              "</table>\n",
              "</div><br><label><b>dtype:</b> int64</label>"
            ]
          },
          "metadata": {},
          "execution_count": 73
        }
      ]
    },
    {
      "cell_type": "code",
      "source": [
        "#check for duplicate entries\n",
        "df.duplicated().sum()"
      ],
      "metadata": {
        "colab": {
          "base_uri": "https://localhost:8080/"
        },
        "id": "eNPInd9zrCm2",
        "outputId": "3150e976-e3e9-462a-8b04-e5605e65979c"
      },
      "id": "eNPInd9zrCm2",
      "execution_count": null,
      "outputs": [
        {
          "output_type": "execute_result",
          "data": {
            "text/plain": [
              "0"
            ]
          },
          "metadata": {},
          "execution_count": 74
        }
      ]
    },
    {
      "cell_type": "markdown",
      "metadata": {
        "id": "68f3b2c9"
      },
      "source": [
        "### Univariate Analysis"
      ],
      "id": "68f3b2c9"
    },
    {
      "cell_type": "markdown",
      "source": [
        "**We will begin by exploring numerical columns.**"
      ],
      "metadata": {
        "id": "VIUZMc73wJy2"
      },
      "id": "VIUZMc73wJy2"
    },
    {
      "cell_type": "markdown",
      "source": [
        "**Observations on time spent on the page**"
      ],
      "metadata": {
        "id": "odMayglWx-JE"
      },
      "id": "odMayglWx-JE"
    },
    {
      "cell_type": "code",
      "metadata": {
        "id": "1932d0f3",
        "colab": {
          "base_uri": "https://localhost:8080/",
          "height": 927
        },
        "outputId": "a80fe379-273b-419d-e6fb-e87b8e014f44"
      },
      "source": [
        "#visualize histogram and boxplot\n",
        "sns.histplot(data=df, x='time_spent_on_the_page')\n",
        "plt.title('Time Spent On the Page')\n",
        "plt.xlabel('Time Spent in Minutes')\n",
        "plt.show();\n",
        "\n",
        "sns.boxplot(data=df, x='time_spent_on_the_page')\n",
        "plt.title('Time Spent On The Page')\n",
        "plt.xlabel('Time Spent in Minutes')\n",
        "plt.show();"
      ],
      "id": "1932d0f3",
      "execution_count": null,
      "outputs": [
        {
          "output_type": "display_data",
          "data": {
            "text/plain": [
              "<Figure size 640x480 with 1 Axes>"
            ],
            "image/png": "[encoded data removed]"
          },
          "metadata": {}
        },
        {
          "output_type": "display_data",
          "data": {
            "text/plain": [
              "<Figure size 640x480 with 1 Axes>"
            ],
            "image/png": "[encoded data removed]"
          },
          "metadata": {}
        }
      ]
    },
    {
      "cell_type": "markdown",
      "source": [
        "- The minimum amount of time spent on a page is 0.19 minutes and the maximum amount of time spent is 10.71 minutes.\n",
        "- The median time spent on a page is 5.415 minutes.\n",
        "- The most common time spent on a page is 4 and 5 minutes.\n",
        "- There are no outliers."
      ],
      "metadata": {
        "id": "9aFr57AY1IrX"
      },
      "id": "9aFr57AY1IrX"
    },
    {
      "cell_type": "markdown",
      "source": [
        "**Observations on Conversion**"
      ],
      "metadata": {
        "id": "6JTIr9jx-3XS"
      },
      "id": "6JTIr9jx-3XS"
    },
    {
      "cell_type": "code",
      "source": [
        "sns.countplot(data=df, x='converted', hue='converted');\n",
        "plt.title('Users Who Converted')\n",
        "plt.xlabel('Converted');"
      ],
      "metadata": {
        "colab": {
          "base_uri": "https://localhost:8080/",
          "height": 472
        },
        "id": "HTMrFSOS_ANr",
        "outputId": "8b90f021-9d5d-4ff2-d6ce-f660b680eeb9"
      },
      "id": "HTMrFSOS_ANr",
      "execution_count": null,
      "outputs": [
        {
          "output_type": "display_data",
          "data": {
            "text/plain": [
              "<Figure size 640x480 with 1 Axes>"
            ],
            "image/png": "[encoded data removed]"
          },
          "metadata": {}
        }
      ]
    },
    {
      "cell_type": "code",
      "source": [
        "df['converted'].value_counts(normalize=True)"
      ],
      "metadata": {
        "colab": {
          "base_uri": "https://localhost:8080/",
          "height": 178
        },
        "id": "GaFzxK1_ABai",
        "outputId": "76c7904a-00ba-4730-b468-e46d4cae121e"
      },
      "id": "GaFzxK1_ABai",
      "execution_count": null,
      "outputs": [
        {
          "output_type": "execute_result",
          "data": {
            "text/plain": [
              "converted\n",
              "yes    0.54\n",
              "no     0.46\n",
              "Name: proportion, dtype: float64"
            ],
            "text/html": [
              "<div>\n",
              "<style scoped>\n",
              "    .dataframe tbody tr th:only-of-type {\n",
              "        vertical-align: middle;\n",
              "    }\n",
              "\n",
              "    .dataframe tbody tr th {\n",
              "        vertical-align: top;\n",
              "    }\n",
              "\n",
              "    .dataframe thead th {\n",
              "        text-align: right;\n",
              "    }\n",
              "</style>\n",
              "<table border=\"1\" class=\"dataframe\">\n",
              "  <thead>\n",
              "    <tr style=\"text-align: right;\">\n",
              "      <th></th>\n",
              "      <th>proportion</th>\n",
              "    </tr>\n",
              "    <tr>\n",
              "      <th>converted</th>\n",
              "      <th></th>\n",
              "    </tr>\n",
              "  </thead>\n",
              "  <tbody>\n",
              "    <tr>\n",
              "      <th>yes</th>\n",
              "      <td>0.54</td>\n",
              "    </tr>\n",
              "    <tr>\n",
              "      <th>no</th>\n",
              "      <td>0.46</td>\n",
              "    </tr>\n",
              "  </tbody>\n",
              "</table>\n",
              "</div><br><label><b>dtype:</b> float64</label>"
            ]
          },
          "metadata": {},
          "execution_count": 77
        }
      ]
    },
    {
      "cell_type": "markdown",
      "source": [
        "- 54% of the users converted overall."
      ],
      "metadata": {
        "id": "NrxBDd4M__Lg"
      },
      "id": "NrxBDd4M__Lg"
    },
    {
      "cell_type": "markdown",
      "source": [
        "**Observations on Language Preferred**"
      ],
      "metadata": {
        "id": "jMKY-MlJ-8XI"
      },
      "id": "jMKY-MlJ-8XI"
    },
    {
      "cell_type": "code",
      "source": [
        "sns.countplot(data=df, x='language_preferred', hue='language_preferred');\n",
        "plt.title('Preferred Language')\n",
        "plt.xlabel('Language');"
      ],
      "metadata": {
        "colab": {
          "base_uri": "https://localhost:8080/",
          "height": 472
        },
        "id": "QD1qcjX2_OdS",
        "outputId": "43623946-c536-4d0a-a533-b3e8b5d6e3e4"
      },
      "id": "QD1qcjX2_OdS",
      "execution_count": null,
      "outputs": [
        {
          "output_type": "display_data",
          "data": {
            "text/plain": [
              "<Figure size 640x480 with 1 Axes>"
            ],
            "image/png": "[encoded data removed]"
          },
          "metadata": {}
        }
      ]
    },
    {
      "cell_type": "code",
      "source": [
        "df['language_preferred'].value_counts(normalize=True)"
      ],
      "metadata": {
        "colab": {
          "base_uri": "https://localhost:8080/",
          "height": 209
        },
        "id": "kQA0BE6VAaAd",
        "outputId": "eaea3c9b-61e9-486d-989d-055cb4423c66"
      },
      "id": "kQA0BE6VAaAd",
      "execution_count": null,
      "outputs": [
        {
          "output_type": "execute_result",
          "data": {
            "text/plain": [
              "language_preferred\n",
              "Spanish    0.34\n",
              "French     0.34\n",
              "English    0.32\n",
              "Name: proportion, dtype: float64"
            ],
            "text/html": [
              "<div>\n",
              "<style scoped>\n",
              "    .dataframe tbody tr th:only-of-type {\n",
              "        vertical-align: middle;\n",
              "    }\n",
              "\n",
              "    .dataframe tbody tr th {\n",
              "        vertical-align: top;\n",
              "    }\n",
              "\n",
              "    .dataframe thead th {\n",
              "        text-align: right;\n",
              "    }\n",
              "</style>\n",
              "<table border=\"1\" class=\"dataframe\">\n",
              "  <thead>\n",
              "    <tr style=\"text-align: right;\">\n",
              "      <th></th>\n",
              "      <th>proportion</th>\n",
              "    </tr>\n",
              "    <tr>\n",
              "      <th>language_preferred</th>\n",
              "      <th></th>\n",
              "    </tr>\n",
              "  </thead>\n",
              "  <tbody>\n",
              "    <tr>\n",
              "      <th>Spanish</th>\n",
              "      <td>0.34</td>\n",
              "    </tr>\n",
              "    <tr>\n",
              "      <th>French</th>\n",
              "      <td>0.34</td>\n",
              "    </tr>\n",
              "    <tr>\n",
              "      <th>English</th>\n",
              "      <td>0.32</td>\n",
              "    </tr>\n",
              "  </tbody>\n",
              "</table>\n",
              "</div><br><label><b>dtype:</b> float64</label>"
            ]
          },
          "metadata": {},
          "execution_count": 79
        }
      ]
    },
    {
      "cell_type": "markdown",
      "source": [
        "- All 3 languages have similar frequencies, with Spanish and French being used slightly more than English."
      ],
      "metadata": {
        "id": "d7Km1KZVA3Za"
      },
      "id": "d7Km1KZVA3Za"
    },
    {
      "cell_type": "markdown",
      "source": [
        "**Observations on group and landing page**"
      ],
      "metadata": {
        "id": "iUhhJ5t4Bm4y"
      },
      "id": "iUhhJ5t4Bm4y"
    },
    {
      "cell_type": "code",
      "source": [
        "df['group'].value_counts()"
      ],
      "metadata": {
        "colab": {
          "base_uri": "https://localhost:8080/",
          "height": 178
        },
        "id": "MQBXEK_rB3Rx",
        "outputId": "93e91be3-191f-46c1-8c58-af6786a9b9e4"
      },
      "id": "MQBXEK_rB3Rx",
      "execution_count": null,
      "outputs": [
        {
          "output_type": "execute_result",
          "data": {
            "text/plain": [
              "group\n",
              "control      50\n",
              "treatment    50\n",
              "Name: count, dtype: int64"
            ],
            "text/html": [
              "<div>\n",
              "<style scoped>\n",
              "    .dataframe tbody tr th:only-of-type {\n",
              "        vertical-align: middle;\n",
              "    }\n",
              "\n",
              "    .dataframe tbody tr th {\n",
              "        vertical-align: top;\n",
              "    }\n",
              "\n",
              "    .dataframe thead th {\n",
              "        text-align: right;\n",
              "    }\n",
              "</style>\n",
              "<table border=\"1\" class=\"dataframe\">\n",
              "  <thead>\n",
              "    <tr style=\"text-align: right;\">\n",
              "      <th></th>\n",
              "      <th>count</th>\n",
              "    </tr>\n",
              "    <tr>\n",
              "      <th>group</th>\n",
              "      <th></th>\n",
              "    </tr>\n",
              "  </thead>\n",
              "  <tbody>\n",
              "    <tr>\n",
              "      <th>control</th>\n",
              "      <td>50</td>\n",
              "    </tr>\n",
              "    <tr>\n",
              "      <th>treatment</th>\n",
              "      <td>50</td>\n",
              "    </tr>\n",
              "  </tbody>\n",
              "</table>\n",
              "</div><br><label><b>dtype:</b> int64</label>"
            ]
          },
          "metadata": {},
          "execution_count": 80
        }
      ]
    },
    {
      "cell_type": "code",
      "source": [
        "df['landing_page'].value_counts()"
      ],
      "metadata": {
        "colab": {
          "base_uri": "https://localhost:8080/",
          "height": 178
        },
        "id": "-UmYWF8wCBbe",
        "outputId": "9dc74398-b18b-42c6-e752-9eb212493b20"
      },
      "id": "-UmYWF8wCBbe",
      "execution_count": null,
      "outputs": [
        {
          "output_type": "execute_result",
          "data": {
            "text/plain": [
              "landing_page\n",
              "old    50\n",
              "new    50\n",
              "Name: count, dtype: int64"
            ],
            "text/html": [
              "<div>\n",
              "<style scoped>\n",
              "    .dataframe tbody tr th:only-of-type {\n",
              "        vertical-align: middle;\n",
              "    }\n",
              "\n",
              "    .dataframe tbody tr th {\n",
              "        vertical-align: top;\n",
              "    }\n",
              "\n",
              "    .dataframe thead th {\n",
              "        text-align: right;\n",
              "    }\n",
              "</style>\n",
              "<table border=\"1\" class=\"dataframe\">\n",
              "  <thead>\n",
              "    <tr style=\"text-align: right;\">\n",
              "      <th></th>\n",
              "      <th>count</th>\n",
              "    </tr>\n",
              "    <tr>\n",
              "      <th>landing_page</th>\n",
              "      <th></th>\n",
              "    </tr>\n",
              "  </thead>\n",
              "  <tbody>\n",
              "    <tr>\n",
              "      <th>old</th>\n",
              "      <td>50</td>\n",
              "    </tr>\n",
              "    <tr>\n",
              "      <th>new</th>\n",
              "      <td>50</td>\n",
              "    </tr>\n",
              "  </tbody>\n",
              "</table>\n",
              "</div><br><label><b>dtype:</b> int64</label>"
            ]
          },
          "metadata": {},
          "execution_count": 81
        }
      ]
    },
    {
      "cell_type": "markdown",
      "source": [
        "- It was stated that the sample of 100 users would be split into two equal groups, where the control group is assigned the existing landing page and the treatment group is assigned the new landing page."
      ],
      "metadata": {
        "id": "hL9aDXLCCCpE"
      },
      "id": "hL9aDXLCCCpE"
    },
    {
      "cell_type": "markdown",
      "metadata": {
        "id": "fad2de2f"
      },
      "source": [
        "### Bivariate Analysis"
      ],
      "id": "fad2de2f"
    },
    {
      "cell_type": "markdown",
      "source": [
        "**Observations on time spent on the page and landing page.**"
      ],
      "metadata": {
        "id": "SM3Szn-tF7HP"
      },
      "id": "SM3Szn-tF7HP"
    },
    {
      "cell_type": "code",
      "source": [
        "#create boxplot of time spent on landing page\n",
        "sns.boxplot(data=df, x='landing_page', y='time_spent_on_the_page', hue='landing_page')\n",
        "plt.title('Time Spent on the Landing Page')\n",
        "plt.xlabel('Landing Page')\n",
        "plt.ylabel('Time Spent in Minutes');"
      ],
      "metadata": {
        "id": "m6EtFhWfmIYS",
        "colab": {
          "base_uri": "https://localhost:8080/",
          "height": 472
        },
        "outputId": "ca1e2000-cfac-44e7-a987-6bd463e529ad"
      },
      "id": "m6EtFhWfmIYS",
      "execution_count": null,
      "outputs": [
        {
          "output_type": "display_data",
          "data": {
            "text/plain": [
              "<Figure size 640x480 with 1 Axes>"
            ],
            "image/png": "[encoded data removed]"
          },
          "metadata": {}
        }
      ]
    },
    {
      "cell_type": "code",
      "source": [
        "#find mean time spent on old page\n",
        "control_group=df[df['landing_page']=='old']\n",
        "control_group['time_spent_on_the_page'].mean()"
      ],
      "metadata": {
        "colab": {
          "base_uri": "https://localhost:8080/"
        },
        "id": "j0YKux5woblr",
        "outputId": "825db8da-beef-43ec-a5ce-6ba9caaa7b42"
      },
      "id": "j0YKux5woblr",
      "execution_count": null,
      "outputs": [
        {
          "output_type": "execute_result",
          "data": {
            "text/plain": [
              "4.532400000000001"
            ]
          },
          "metadata": {},
          "execution_count": 83
        }
      ]
    },
    {
      "cell_type": "code",
      "source": [
        "#find mean time spent on new page\n",
        "treatment_group=df[df['landing_page']=='new']\n",
        "treatment_group['time_spent_on_the_page'].mean()"
      ],
      "metadata": {
        "colab": {
          "base_uri": "https://localhost:8080/"
        },
        "id": "FaZU4jrLogtv",
        "outputId": "dc2af31e-ab98-4175-89ea-f43c126fb3ce"
      },
      "id": "FaZU4jrLogtv",
      "execution_count": null,
      "outputs": [
        {
          "output_type": "execute_result",
          "data": {
            "text/plain": [
              "6.2232"
            ]
          },
          "metadata": {},
          "execution_count": 84
        }
      ]
    },
    {
      "cell_type": "markdown",
      "source": [
        "- On average, users spent more time on the new landing page than the old one.\n",
        "- Users assigned to the new landing page had slightly more unpredictable times spent on the page, indicated by outliers.\n",
        "- 50% of the users in the control group spent 0.19 - 4.38 minutes on the existing page, where the median time spent is 4.38 minutes.\n",
        "- 50% of users in the treatment group spent 3.3 - 6.1 minutes on the new page, where the median time spent is 6.1 minutes."
      ],
      "metadata": {
        "id": "dU415eIeraG7"
      },
      "id": "dU415eIeraG7"
    },
    {
      "cell_type": "markdown",
      "source": [
        "**Observations on time spent on the page and converted.**"
      ],
      "metadata": {
        "id": "sPg2-PRtCoim"
      },
      "id": "sPg2-PRtCoim"
    },
    {
      "cell_type": "code",
      "source": [
        "#generate boxplot of conversion status and time spent on the page\n",
        "sns.boxplot(data=df, x='converted', y='time_spent_on_the_page', hue='converted')\n",
        "plt.title('Conversion and Time Spent on the Page')\n",
        "plt.xlabel('Conversion Status')\n",
        "plt.ylabel('Time Spent on the Page in Minutes');"
      ],
      "metadata": {
        "colab": {
          "base_uri": "https://localhost:8080/",
          "height": 472
        },
        "id": "oRl4fL7NjoMM",
        "outputId": "129c6e45-5605-409e-c2b3-29f1eed8194c"
      },
      "id": "oRl4fL7NjoMM",
      "execution_count": null,
      "outputs": [
        {
          "output_type": "display_data",
          "data": {
            "text/plain": [
              "<Figure size 640x480 with 1 Axes>"
            ],
            "image/png": "[encoded data removed]"
          },
          "metadata": {}
        }
      ]
    },
    {
      "cell_type": "code",
      "source": [
        "#find mean of time spent on the page, sorted by conversion status\n",
        "\n",
        "#converted mean\n",
        "converted=df[df['converted']=='yes']\n",
        "converted_mean = round(converted['time_spent_on_the_page'].mean(),2)\n",
        "#non-converted mean\n",
        "non_conv = df[df['converted']=='no']\n",
        "non_conv_mean = round(non_conv['time_spent_on_the_page'].mean(),2)\n",
        "\n",
        "print('The mean time spent on the page for users who converted is', converted_mean)\n",
        "print('The mean time spent on the page for users who did not convert is', non_conv_mean)\n",
        "print()\n",
        "\n",
        "#converted minimum\n",
        "converted_min = converted['time_spent_on_the_page'].min()\n",
        "#non-converted minimum\n",
        "non_conv_min = non_conv['time_spent_on_the_page'].min()\n",
        "\n",
        "print('The minimum time spent on the page for users who converted is: ' + str(converted_min))\n",
        "print('The minimum time spent on the page for users who did not convert is: ' + str(non_conv_min))\n",
        "print()\n",
        "\n",
        "#converted median\n",
        "converted_med = converted['time_spent_on_the_page'].median()\n",
        "#non-converted median\n",
        "non_conv_med = non_conv['time_spent_on_the_page'].median()\n",
        "\n",
        "print('The median time spent on the page for user who converted is: ' + str(round(converted_med,2)))\n",
        "print('The median time spent on the page for user who did not converted is: ' + str(non_conv_med))"
      ],
      "metadata": {
        "colab": {
          "base_uri": "https://localhost:8080/"
        },
        "id": "N1ATmAOB_A4n",
        "outputId": "0af03870-ab38-4f3c-c58a-5af6dbfefd45"
      },
      "id": "N1ATmAOB_A4n",
      "execution_count": null,
      "outputs": [
        {
          "output_type": "stream",
          "name": "stdout",
          "text": [
            "The mean time spent on the page for users who converted is 6.62\n",
            "The mean time spent on the page for users who did not convert is 3.92\n",
            "\n",
            "The minimum time spent on the page for users who converted is: 2.58\n",
            "The minimum time spent on the page for users who did not convert is: 0.19\n",
            "\n",
            "The median time spent on the page for user who converted is: 6.49\n",
            "The median time spent on the page for user who did not converted is: 3.98\n"
          ]
        }
      ]
    },
    {
      "cell_type": "markdown",
      "source": [
        "- On average, users who spent more time on their respective landing page converted to a subscriber.\n",
        "- 50% of users who did not convert spent 0.19 - 3.98 minutes on the landing page, where the median time spent is 3.98 minutes.\n",
        "- 50% of users who converted to subscribers spent 2.58 - 6.49 minutes on the landing page, where the median time spent is 6.49 minutes.\n",
        "- Outliers exist for both user groups."
      ],
      "metadata": {
        "id": "Ewqqr1zOr3Ru"
      },
      "id": "Ewqqr1zOr3Ru"
    },
    {
      "cell_type": "markdown",
      "source": [
        "**Observations on time spent on the page and language preferred.**"
      ],
      "metadata": {
        "id": "bgVoE_QhFZIK"
      },
      "id": "bgVoE_QhFZIK"
    },
    {
      "cell_type": "code",
      "source": [
        "#generate boxplot for language preferred and time spent on the page\n",
        "sns.boxplot(data=df, x='language_preferred', y='time_spent_on_the_page', hue='language_preferred')\n",
        "plt.title(' Preferred Language and Time Spent on the Page')\n",
        "plt.xlabel('Preferred Language')\n",
        "plt.ylabel('Time Spent on the Page in Minutes');"
      ],
      "metadata": {
        "colab": {
          "base_uri": "https://localhost:8080/",
          "height": 472
        },
        "id": "vm-ga26akbAb",
        "outputId": "71463ac1-1e57-447f-c951-215546bb95bb"
      },
      "id": "vm-ga26akbAb",
      "execution_count": null,
      "outputs": [
        {
          "output_type": "display_data",
          "data": {
            "text/plain": [
              "<Figure size 640x480 with 1 Axes>"
            ],
            "image/png": "[encoded data removed]"
          },
          "metadata": {}
        }
      ]
    },
    {
      "cell_type": "code",
      "source": [
        "#find average times spent on the landing page for each language.\n",
        "spanish = df[df['language_preferred']=='Spanish']\n",
        "span_avg_time = spanish['time_spent_on_the_page'].mean()\n",
        "\n",
        "english = df[df['language_preferred']=='English']\n",
        "eng_avg_time = english['time_spent_on_the_page'].mean()\n",
        "\n",
        "french = df[df['language_preferred']=='French']\n",
        "french_avg_time = french['time_spent_on_the_page'].mean()\n",
        "\n",
        "print(f'Users who chose Spanish as their preferred language spent a mean time of {round(span_avg_time,2)} minutes on the landing page.')\n",
        "print(f'Users who chose English as their preferred language spent a mean time of {round(eng_avg_time,2)} minutes on the landing page.')\n",
        "print(f'Users who chose French as their preferred language spent a mean time of {round(french_avg_time,2)} minutes on the landing page.')"
      ],
      "metadata": {
        "colab": {
          "base_uri": "https://localhost:8080/"
        },
        "id": "mjl_jvseg4pn",
        "outputId": "c790e605-6f84-4e4f-c357-2673f64549a9"
      },
      "id": "mjl_jvseg4pn",
      "execution_count": null,
      "outputs": [
        {
          "output_type": "stream",
          "name": "stdout",
          "text": [
            "Users who chose Spanish as their preferred language spent a mean time of 5.33 minutes on the landing page.\n",
            "Users who chose English as their preferred language spent a mean time of 5.56 minutes on the landing page.\n",
            "Users who chose French as their preferred language spent a mean time of 5.25 minutes on the landing page.\n"
          ]
        }
      ]
    },
    {
      "cell_type": "markdown",
      "source": [
        "- On average, users for all languages spent about 5 - 5.5 minutes on their respective landing pages.\n",
        "- There exists an outlier for Spanish as a preferred language.\n",
        "- Spanish as a preferred language has a more narrow distribution with time spent on the page ranging from 1.65 - 8.72 minutes.\n",
        "- English and French as preferred languages have wider distributions with times ranging from about 0.2 - 11 minutes."
      ],
      "metadata": {
        "id": "6Pks0GLUCMuV"
      },
      "id": "6Pks0GLUCMuV"
    },
    {
      "cell_type": "markdown",
      "metadata": {
        "id": "27906576"
      },
      "source": [
        "## 1. Do the users spend more time on the new landing page than the existing landing page?"
      ],
      "id": "27906576"
    },
    {
      "cell_type": "markdown",
      "metadata": {
        "id": "e5fdf0c8"
      },
      "source": [
        "### Perform Visual Analysis"
      ],
      "id": "e5fdf0c8"
    },
    {
      "cell_type": "code",
      "source": [
        "#generate boxplots of time spent on the page separated by new and existing landing pages\n",
        "sns.boxplot(data=df, x='landing_page', y='time_spent_on_the_page', hue='landing_page')\n",
        "plt.title('Time Spent on the Landing Page')\n",
        "plt.xlabel('Landing Page')\n",
        "plt.ylabel('Time Spent on the Page in Minutes');"
      ],
      "metadata": {
        "colab": {
          "base_uri": "https://localhost:8080/",
          "height": 472
        },
        "id": "AYUhvqoToJyL",
        "outputId": "0f57a9b2-15e3-4324-b168-11bb863046b2"
      },
      "id": "AYUhvqoToJyL",
      "execution_count": null,
      "outputs": [
        {
          "output_type": "display_data",
          "data": {
            "text/plain": [
              "<Figure size 640x480 with 1 Axes>"
            ],
            "image/png": "[encoded data removed]"
          },
          "metadata": {}
        }
      ]
    },
    {
      "cell_type": "markdown",
      "metadata": {
        "id": "56b3dafd"
      },
      "source": [
        "### Step 1: Define the null and alternate hypotheses"
      ],
      "id": "56b3dafd"
    },
    {
      "cell_type": "markdown",
      "metadata": {
        "id": "d2ac77ef"
      },
      "source": [
        "Let $\\mu_1$ equal the average time spent on the existing landing page and let $\\mu_2$ equal the average time spent on the new landing page.\n",
        "\n",
        "We will test the null hypothesis\n",
        "\n",
        ">$H_0:\\mu_1=\\mu_2$\n",
        "\n",
        "against the alternate hypothesis\n",
        "\n",
        ">$H_a:\\mu_1 < \\mu_2$"
      ],
      "id": "d2ac77ef"
    },
    {
      "cell_type": "markdown",
      "metadata": {
        "id": "c7ee4907"
      },
      "source": [
        "### Step 2: Select Appropriate test"
      ],
      "id": "c7ee4907"
    },
    {
      "cell_type": "markdown",
      "source": [
        "The one-tailed, 2 Sample Independent t-test seems like it will be an appropriate test since we are comparing means of 2 independent populations and the standard deviation is unkown. Let's evaluate whether the criteria for this test have been met:\n",
        "\n",
        "- Continuous data - Yes, the time spent on the landing page is continuous.\n",
        "-Normally distributed populations- **To be established. We will confirm this using a Shapiro Wilk's test.**\n",
        "- Independent populations - Yes, we are informed that random sampling occurred, before creating 2 equal and independent populations.\n",
        "- Equal population standard deviations- **To be established.**\n",
        "- Random sampling from the population - Yes. A simple random sample was taken."
      ],
      "metadata": {
        "id": "jJ7A5Ypvro9Z"
      },
      "id": "jJ7A5Ypvro9Z"
    },
    {
      "cell_type": "markdown",
      "source": [
        "**Shapiro-Wilk's Test for normality on dependent variable**\n",
        ">$H_0:$ Time spent on the landing page follows a normal distribution.\n",
        "\n",
        ">$H_a:$ Time spent on the landing page does not follow a normal distribution."
      ],
      "metadata": {
        "id": "V1PkA163wF7Z"
      },
      "id": "V1PkA163wF7Z"
    },
    {
      "cell_type": "code",
      "source": [
        "#Shapiro-Wilk's Test\n",
        "w, p_value = stats.shapiro(df['time_spent_on_the_page'])\n",
        "print(\"The p-value for the Shapiro-Wilk's test for normality is\", round(p_value,2))"
      ],
      "metadata": {
        "colab": {
          "base_uri": "https://localhost:8080/"
        },
        "id": "Dlnr2OkbDIbC",
        "outputId": "ac659416-729d-4f42-9510-37a17c3e13e7"
      },
      "id": "Dlnr2OkbDIbC",
      "execution_count": null,
      "outputs": [
        {
          "output_type": "stream",
          "name": "stdout",
          "text": [
            "The p-value for the Shapiro-Wilk's test for normality is 0.56\n"
          ]
        }
      ]
    },
    {
      "cell_type": "markdown",
      "source": [
        "Given that the p-value is about 56%, we do not have enough evidence to reject the null hypothesis. Thus, we conclude that the response variable follows a normal distribution."
      ],
      "metadata": {
        "id": "wZ8cQEGFxEzy"
      },
      "id": "wZ8cQEGFxEzy"
    },
    {
      "cell_type": "markdown",
      "source": [
        "**Calculate Standard Deviation to Establish Equality**"
      ],
      "metadata": {
        "id": "MeUSZM26xw2p"
      },
      "id": "MeUSZM26xw2p"
    },
    {
      "cell_type": "code",
      "source": [
        "#compute mean and standard deviations of each group.\n",
        "#recall that the variables control_group and treatment_group were created previously\n",
        "print('For the control group, the standard deviation is ' + str(round(control_group['time_spent_on_the_page'].std(),2)) + ' and the mean is ' + str(round(control_group['time_spent_on_the_page'].mean(),2)))\n",
        "print('For the treatment group, the standard deviation is ' + str(round(treatment_group['time_spent_on_the_page'].std(),2)) + ' and the mean is ' + str(round(treatment_group['time_spent_on_the_page'].mean(),2)))"
      ],
      "metadata": {
        "colab": {
          "base_uri": "https://localhost:8080/"
        },
        "id": "CCDoh75Nv2x6",
        "outputId": "509627c5-b72b-41c4-dc35-91f922d2abd5"
      },
      "id": "CCDoh75Nv2x6",
      "execution_count": null,
      "outputs": [
        {
          "output_type": "stream",
          "name": "stdout",
          "text": [
            "For the control group, the standard deviation is 2.58 and the mean is 4.53\n",
            "For the treatment group, the standard deviation is 1.82 and the mean is 6.22\n"
          ]
        }
      ]
    },
    {
      "cell_type": "code",
      "source": [
        "#find ratio of standard deviations large/small\n",
        "ratio_of_std = round((control_group['time_spent_on_the_page'].std()) / (treatment_group['time_spent_on_the_page'].std()),2)\n",
        "print(ratio_of_std)"
      ],
      "metadata": {
        "colab": {
          "base_uri": "https://localhost:8080/"
        },
        "id": "gBnghfm_2X22",
        "outputId": "297b3e88-d250-4e7d-f4a8-6a71e9f913e3"
      },
      "id": "gBnghfm_2X22",
      "execution_count": null,
      "outputs": [
        {
          "output_type": "stream",
          "name": "stdout",
          "text": [
            "1.42\n"
          ]
        }
      ]
    },
    {
      "cell_type": "markdown",
      "metadata": {
        "id": "2c183cd7"
      },
      "source": [
        "Since the ratio of the larger to the smaller sample standard deviations is less than 2, we can assume that the standard deviations are equal."
      ],
      "id": "2c183cd7"
    },
    {
      "cell_type": "markdown",
      "source": [
        "**All assumptions of the 2 sample independent t-test have been met.**"
      ],
      "metadata": {
        "id": "0kxTDCWc3ics"
      },
      "id": "0kxTDCWc3ics"
    },
    {
      "cell_type": "markdown",
      "metadata": {
        "id": "3f58c9a7"
      },
      "source": [
        "### Step 3: Decide the significance level"
      ],
      "id": "3f58c9a7"
    },
    {
      "cell_type": "markdown",
      "metadata": {
        "id": "92d7d7ee"
      },
      "source": [
        "Let α = 0.05."
      ],
      "id": "92d7d7ee"
    },
    {
      "cell_type": "markdown",
      "metadata": {
        "id": "5fed2eac"
      },
      "source": [
        "### Step 4: Collect and prepare data"
      ],
      "id": "5fed2eac"
    },
    {
      "cell_type": "markdown",
      "source": [
        "- It has been established that the standard deviations of the populations are equal in step 2. A normal distribution has also been established in step 2."
      ],
      "metadata": {
        "id": "D4IvPUdrQOcS"
      },
      "id": "D4IvPUdrQOcS"
    },
    {
      "cell_type": "markdown",
      "metadata": {
        "id": "f5c5258d"
      },
      "source": [
        "### Step 5: Calculate the p-value"
      ],
      "id": "f5c5258d"
    },
    {
      "cell_type": "code",
      "metadata": {
        "id": "fac8594a",
        "colab": {
          "base_uri": "https://localhost:8080/"
        },
        "outputId": "33210a7e-4a94-434c-b4fc-024b335323c6"
      },
      "source": [
        "#import required function\n",
        "from scipy.stats import ttest_ind\n",
        "\n",
        "#find the p-value\n",
        "#recall that the variables control_group and treatment_group were created previously\n",
        "test_stat, p_value = ttest_ind(control_group['time_spent_on_the_page'], treatment_group['time_spent_on_the_page'], equal_var=True, alternative='less')\n",
        "print(f'The p-value is {p_value}.')"
      ],
      "id": "fac8594a",
      "execution_count": null,
      "outputs": [
        {
          "output_type": "stream",
          "name": "stdout",
          "text": [
            "The p-value is 0.0001316123528095005.\n"
          ]
        }
      ]
    },
    {
      "cell_type": "markdown",
      "metadata": {
        "id": "359b12f8"
      },
      "source": [
        "### Step 6: Compare the p-value with $\\alpha$"
      ],
      "id": "359b12f8"
    },
    {
      "cell_type": "markdown",
      "source": [
        "- Given that the p-value is lower than our significance level, we have enough evidence to reject the null hypothesis."
      ],
      "metadata": {
        "id": "8iUXDPZjU0Hv"
      },
      "id": "8iUXDPZjU0Hv"
    },
    {
      "cell_type": "markdown",
      "metadata": {
        "id": "d9affc84"
      },
      "source": [
        "### Step 7:  Draw inference"
      ],
      "id": "d9affc84"
    },
    {
      "cell_type": "markdown",
      "metadata": {
        "id": "6b16dd4b"
      },
      "source": [
        "- We conclude that on average, users spend more time on the new landing page than the existing one."
      ],
      "id": "6b16dd4b"
    },
    {
      "cell_type": "markdown",
      "metadata": {
        "id": "1ad0823a"
      },
      "source": [
        "**A similar approach can be followed to answer the other questions.**"
      ],
      "id": "1ad0823a"
    },
    {
      "cell_type": "markdown",
      "metadata": {
        "id": "353e9d24"
      },
      "source": [
        "## 2. Is the conversion rate (the proportion of users who visit the landing page and get converted) for the new page greater than the conversion rate for the old page?"
      ],
      "id": "353e9d24"
    },
    {
      "cell_type": "markdown",
      "source": [
        "###A visualization"
      ],
      "metadata": {
        "id": "K-GxtnkcZLIh"
      },
      "id": "K-GxtnkcZLIh"
    },
    {
      "cell_type": "code",
      "metadata": {
        "id": "b7f52898",
        "colab": {
          "base_uri": "https://localhost:8080/",
          "height": 472
        },
        "outputId": "e3456702-51f3-4076-d760-1c134dd293b0"
      },
      "source": [
        "sns.countplot(data=df, x='landing_page', hue='converted')\n",
        "plt.title('Conversion By Landing Page')\n",
        "plt.xlabel('Landing Page');"
      ],
      "id": "b7f52898",
      "execution_count": null,
      "outputs": [
        {
          "output_type": "display_data",
          "data": {
            "text/plain": [
              "<Figure size 640x480 with 1 Axes>"
            ],
            "image/png": "[encoded data removed]"
          },
          "metadata": {}
        }
      ]
    },
    {
      "cell_type": "markdown",
      "source": [
        "### Establish null and alternative hypotheses"
      ],
      "metadata": {
        "id": "efsGUvUZZWTQ"
      },
      "id": "efsGUvUZZWTQ"
    },
    {
      "cell_type": "markdown",
      "source": [
        "Let $p_1$ represent the proportion of users who converted when visting the old landing page.\n",
        "\n",
        "Let $p_2$ represent the proportion of users who converted when visiting\n",
        "the new landing page.\n",
        "\n",
        "- $H_0: p_1 ≥ p_2$\n",
        "\n",
        "- $H_a: p_1<p_2$"
      ],
      "metadata": {
        "id": "kyIrvJvDa1D3"
      },
      "id": "kyIrvJvDa1D3"
    },
    {
      "cell_type": "markdown",
      "source": [
        "### Choose an appropriate test\n",
        "- A one tailed, 2 Sample Proportions Z-test would be appropriate for this investigation."
      ],
      "metadata": {
        "id": "G70xS6ccZfY8"
      },
      "id": "G70xS6ccZfY8"
    },
    {
      "cell_type": "markdown",
      "source": [
        "### Establish significance level\n",
        "- Let α = 0.05."
      ],
      "metadata": {
        "id": "iyJ8FMVAZk5a"
      },
      "id": "iyJ8FMVAZk5a"
    },
    {
      "cell_type": "markdown",
      "source": [
        "###Data preparation"
      ],
      "metadata": {
        "id": "2jpnWYPcajPl"
      },
      "id": "2jpnWYPcajPl"
    },
    {
      "cell_type": "markdown",
      "source": [
        "Determine of proportions z-test assumptions are satisfied:\n",
        "- Binomial distribution in the population - Yes, either the user converted or did not.\n",
        "- Random sampling from the population - Yes, this was stated previously.\n",
        "- Binomial distribution approaches normality under the Central Limit Theorem.\n",
        "- Ensure that $np≥10$ **and** $n(1-p)≥10$, where $n$= sample size and $p=$ sample proportion - **Established below.**"
      ],
      "metadata": {
        "id": "qYt8gJaOgOrb"
      },
      "id": "qYt8gJaOgOrb"
    },
    {
      "cell_type": "markdown",
      "source": [
        "To determine if  $np≥10$ **and** $n(1-p)≥10$, we first must find the number of users who converted for each population respectively.\n",
        "\n",
        "\n"
      ],
      "metadata": {
        "id": "Zgn3XQvKvBTv"
      },
      "id": "Zgn3XQvKvBTv"
    },
    {
      "cell_type": "code",
      "source": [
        "#number of users who converted from control group\n",
        "conv_control_total = control_group['converted'].value_counts()['yes']\n",
        "print(f'The total number of users who converted from the control group is {conv_control_total}.')\n",
        "\n",
        "#number of users who converted from treatment group\n",
        "conv_treatment_total = treatment_group['converted'].value_counts()['yes']\n",
        "print(f'The total number of users who converted from the treatment group is {conv_treatment_total}.')"
      ],
      "metadata": {
        "colab": {
          "base_uri": "https://localhost:8080/"
        },
        "id": "3Cxwb6IzpxKg",
        "outputId": "b371de41-9cd6-40f4-b139-b6af531aebca"
      },
      "id": "3Cxwb6IzpxKg",
      "execution_count": null,
      "outputs": [
        {
          "output_type": "stream",
          "name": "stdout",
          "text": [
            "The total number of users who converted from the control group is 21.\n",
            "The total number of users who converted from the treatment group is 33.\n"
          ]
        }
      ]
    },
    {
      "cell_type": "markdown",
      "source": [
        "Now we will calculate $p_1$ and $p_2$, the conversion ratios of each population respectively. Then, Boolean statemets will be used to determine if  $np≥10$ **and** $n(p=1)≥10$ for $p_1$ and $p_2$."
      ],
      "metadata": {
        "id": "ovS9o95wvWGx"
      },
      "id": "ovS9o95wvWGx"
    },
    {
      "cell_type": "code",
      "source": [
        "#sample size of each population\n",
        "n=50\n",
        "\n",
        "#proportion of converted users for control group\n",
        "p_1 = conv_control_total/n\n",
        "print(f'The proportion of converted users for the control group is {p_1}.')\n",
        "\n",
        "#proportion of converted users for treatment group\n",
        "p_2 = conv_treatment_total/n\n",
        "print(f'The proportion of converted users for the treatment group is {p_2}')\n",
        "print()\n",
        "\n",
        "#determine if n*p and n*(1-p) >= 10 for each population\n",
        "print('For the control group, n*p greater than or equal to 10:', n*p_1 >= 10)\n",
        "print('For the control group, n(1-p) greater than or equal to 10:', n*(1-p_1) >= 10)\n",
        "print()\n",
        "\n",
        "print('For the treatment group, n*p greater than or equal to 10:', n*p_2>=10)\n",
        "print('For the treatment group, n(1-p) greater than or equal to 10:', n*(1-p_2) >= 10)"
      ],
      "metadata": {
        "colab": {
          "base_uri": "https://localhost:8080/"
        },
        "id": "zhpC5k5Tu2wF",
        "outputId": "4b077181-57d9-41ef-fbb4-96ac90e1d04f"
      },
      "id": "zhpC5k5Tu2wF",
      "execution_count": null,
      "outputs": [
        {
          "output_type": "stream",
          "name": "stdout",
          "text": [
            "The proportion of converted users for the control group is 0.42.\n",
            "The proportion of converted users for the treatment group is 0.66\n",
            "\n",
            "For the control group, n*p greater than or equal to 10: True\n",
            "For the control group, n(1-p) greater than or equal to 10: True\n",
            "\n",
            "For the treatment group, n*p greater than or equal to 10: True\n",
            "For the treatment group, n(1-p) greater than or equal to 10: True\n"
          ]
        }
      ]
    },
    {
      "cell_type": "markdown",
      "source": [
        "- We conclude that all requirements have been met for a 2 sample proportions z-test."
      ],
      "metadata": {
        "id": "2gxqCMyKzuVZ"
      },
      "id": "2gxqCMyKzuVZ"
    },
    {
      "cell_type": "markdown",
      "source": [
        "### Find p-value"
      ],
      "metadata": {
        "id": "9ny6R4DEZt0a"
      },
      "id": "9ny6R4DEZt0a"
    },
    {
      "cell_type": "code",
      "source": [
        "from statsmodels.stats.proportion import proportions_ztest\n",
        "\n",
        "#set number of successes (users who converted calculated previously)\n",
        "conversion_count = np.array([21, 33])\n",
        "\n",
        "#set sample sizes\n",
        "nobs = np.array([50,50])\n",
        "\n",
        "#find the p-value\n",
        "test_stat_2, p_value_2 = proportions_ztest(conversion_count, nobs, alternative='smaller')\n",
        "\n",
        "print(f'The p-value is {round(p_value_2,3)}.')"
      ],
      "metadata": {
        "colab": {
          "base_uri": "https://localhost:8080/"
        },
        "id": "n75SwnaQ14Uo",
        "outputId": "f7c49428-f94c-4ca1-d14a-9fbf53e30963"
      },
      "id": "n75SwnaQ14Uo",
      "execution_count": null,
      "outputs": [
        {
          "output_type": "stream",
          "name": "stdout",
          "text": [
            "The p-value is 0.008.\n"
          ]
        }
      ]
    },
    {
      "cell_type": "markdown",
      "source": [
        "### Compare p-value to level of significance"
      ],
      "metadata": {
        "id": "UYkS_nsQZwqx"
      },
      "id": "UYkS_nsQZwqx"
    },
    {
      "cell_type": "markdown",
      "source": [
        "- The p-value is less than the 5% level of significance."
      ],
      "metadata": {
        "id": "d2WBk3rcbr9W"
      },
      "id": "d2WBk3rcbr9W"
    },
    {
      "cell_type": "markdown",
      "source": [
        "###Draw a conclusion."
      ],
      "metadata": {
        "id": "VrcTnD11awcj"
      },
      "id": "VrcTnD11awcj"
    },
    {
      "cell_type": "markdown",
      "source": [
        "- Given that the p-value is less than 5%, we have enough evidence to reject the null hypothesis. We conclude that the conversion rate for the new page is greater than the conversion rate of the old page."
      ],
      "metadata": {
        "id": "CmKgg77zbymC"
      },
      "id": "CmKgg77zbymC"
    },
    {
      "cell_type": "markdown",
      "metadata": {
        "id": "d49bfa2d"
      },
      "source": [
        "## 3. Is the conversion and preferred language are independent or related?"
      ],
      "id": "d49bfa2d"
    },
    {
      "cell_type": "markdown",
      "source": [
        "###Establish null and alternative hypothesis"
      ],
      "metadata": {
        "id": "HgZQZC60dMAz"
      },
      "id": "HgZQZC60dMAz"
    },
    {
      "cell_type": "markdown",
      "source": [
        "$H_0:$ Preferred language and conversion status are independent.\n",
        "\n",
        "$H_A:$ Preferred language and conversion status are dependent."
      ],
      "metadata": {
        "id": "rMLg8-t5cTgS"
      },
      "id": "rMLg8-t5cTgS"
    },
    {
      "cell_type": "markdown",
      "source": [
        "### Choose an appropriate test\n",
        "- Chi square test of contingency needed"
      ],
      "metadata": {
        "id": "I0ACY61edp9f"
      },
      "id": "I0ACY61edp9f"
    },
    {
      "cell_type": "markdown",
      "source": [
        "### Establish significance level\n",
        "- Let α = 0.05."
      ],
      "metadata": {
        "id": "iliRV1PZdxgO"
      },
      "id": "iliRV1PZdxgO"
    },
    {
      "cell_type": "markdown",
      "source": [
        "###Data preparation"
      ],
      "metadata": {
        "id": "2q9LEj2xd5JH"
      },
      "id": "2q9LEj2xd5JH"
    },
    {
      "cell_type": "markdown",
      "source": [
        "- To perform the chi square test of independence, we first need to construct a contigency table."
      ],
      "metadata": {
        "id": "pBmoTN0-errM"
      },
      "id": "pBmoTN0-errM"
    },
    {
      "cell_type": "code",
      "source": [
        "#create a contigency table\n",
        "contingency_table = pd.crosstab(df['language_preferred'], df['converted'])\n",
        "contingency_table"
      ],
      "metadata": {
        "colab": {
          "base_uri": "https://localhost:8080/",
          "height": 174
        },
        "id": "klniy9ARez2L",
        "outputId": "54782f1f-a63a-4748-bf17-4d3365b8ffb7"
      },
      "id": "klniy9ARez2L",
      "execution_count": null,
      "outputs": [
        {
          "output_type": "execute_result",
          "data": {
            "text/plain": [
              "converted           no  yes\n",
              "language_preferred         \n",
              "English             11   21\n",
              "French              19   15\n",
              "Spanish             16   18"
            ],
            "text/html": [
              "\n",
              "  <div id=\"df-c46f1e37-5a79-4d6b-8631-e8307c5334db\" class=\"colab-df-container\">\n",
              "    <div>\n",
              "<style scoped>\n",
              "    .dataframe tbody tr th:only-of-type {\n",
              "        vertical-align: middle;\n",
              "    }\n",
              "\n",
              "    .dataframe tbody tr th {\n",
              "        vertical-align: top;\n",
              "    }\n",
              "\n",
              "    .dataframe thead th {\n",
              "        text-align: right;\n",
              "    }\n",
              "</style>\n",
              "<table border=\"1\" class=\"dataframe\">\n",
              "  <thead>\n",
              "    <tr style=\"text-align: right;\">\n",
              "      <th>converted</th>\n",
              "      <th>no</th>\n",
              "      <th>yes</th>\n",
              "    </tr>\n",
              "    <tr>\n",
              "      <th>language_preferred</th>\n",
              "      <th></th>\n",
              "      <th></th>\n",
              "    </tr>\n",
              "  </thead>\n",
              "  <tbody>\n",
              "    <tr>\n",
              "      <th>English</th>\n",
              "      <td>11</td>\n",
              "      <td>21</td>\n",
              "    </tr>\n",
              "    <tr>\n",
              "      <th>French</th>\n",
              "      <td>19</td>\n",
              "      <td>15</td>\n",
              "    </tr>\n",
              "    <tr>\n",
              "      <th>Spanish</th>\n",
              "      <td>16</td>\n",
              "      <td>18</td>\n",
              "    </tr>\n",
              "  </tbody>\n",
              "</table>\n",
              "</div>\n",
              "    <div class=\"colab-df-buttons\">\n",
              "\n",
              "  <div class=\"colab-df-container\">\n",
              "    <button class=\"colab-df-convert\" onclick=\"convertToInteractive('df-c46f1e37-5a79-4d6b-8631-e8307c5334db')\"\n",
              "            title=\"Convert this dataframe to an interactive table.\"\n",
              "            style=\"display:none;\">\n",
              "\n",
              "  <svg xmlns=\"http://www.w3.org/2000/svg\" height=\"24px\" viewBox=\"0 -960 960 960\">\n",
              "    <path d=\"M120-120v-720h720v720H120Zm60-500h600v-160H180v160Zm220 220h160v-160H400v160Zm0 220h160v-160H400v160ZM180-400h160v-160H180v160Zm440 0h160v-160H620v160ZM180-180h160v-160H180v160Zm440 0h160v-160H620v160Z\"/>\n",
              "  </svg>\n",
              "    </button>\n",
              "\n",
              "  <style>\n",
              "    .colab-df-container {\n",
              "      display:flex;\n",
              "      gap: 12px;\n",
              "    }\n",
              "\n",
              "    .colab-df-convert {\n",
              "      background-color: #E8F0FE;\n",
              "      border: none;\n",
              "      border-radius: 50%;\n",
              "      cursor: pointer;\n",
              "      display: none;\n",
              "      fill: #1967D2;\n",
              "      height: 32px;\n",
              "      padding: 0 0 0 0;\n",
              "      width: 32px;\n",
              "    }\n",
              "\n",
              "    .colab-df-convert:hover {\n",
              "      background-color: #E2EBFA;\n",
              "      box-shadow: 0px 1px 2px rgba(60, 64, 67, 0.3), 0px 1px 3px 1px rgba(60, 64, 67, 0.15);\n",
              "      fill: #174EA6;\n",
              "    }\n",
              "\n",
              "    .colab-df-buttons div {\n",
              "      margin-bottom: 4px;\n",
              "    }\n",
              "\n",
              "    [theme=dark] .colab-df-convert {\n",
              "      background-color: #3B4455;\n",
              "      fill: #D2E3FC;\n",
              "    }\n",
              "\n",
              "    [theme=dark] .colab-df-convert:hover {\n",
              "      background-color: #434B5C;\n",
              "      box-shadow: 0px 1px 3px 1px rgba(0, 0, 0, 0.15);\n",
              "      filter: drop-shadow(0px 1px 2px rgba(0, 0, 0, 0.3));\n",
              "      fill: #FFFFFF;\n",
              "    }\n",
              "  </style>\n",
              "\n",
              "    <script>\n",
              "      const buttonEl =\n",
              "        document.querySelector('#df-c46f1e37-5a79-4d6b-8631-e8307c5334db button.colab-df-convert');\n",
              "      buttonEl.style.display =\n",
              "        google.colab.kernel.accessAllowed ? 'block' : 'none';\n",
              "\n",
              "      async function convertToInteractive(key) {\n",
              "        const element = document.querySelector('#df-c46f1e37-5a79-4d6b-8631-e8307c5334db');\n",
              "        const dataTable =\n",
              "          await google.colab.kernel.invokeFunction('convertToInteractive',\n",
              "                                                    [key], {});\n",
              "        if (!dataTable) return;\n",
              "\n",
              "        const docLinkHtml = 'Like what you see? Visit the ' +\n",
              "          '<a target=\"_blank\" href=https://colab.research.google.com/notebooks/data_table.ipynb>data table notebook</a>'\n",
              "          + ' to learn more about interactive tables.';\n",
              "        element.innerHTML = '';\n",
              "        dataTable['output_type'] = 'display_data';\n",
              "        await google.colab.output.renderOutput(dataTable, element);\n",
              "        const docLink = document.createElement('div');\n",
              "        docLink.innerHTML = docLinkHtml;\n",
              "        element.appendChild(docLink);\n",
              "      }\n",
              "    </script>\n",
              "  </div>\n",
              "\n",
              "\n",
              "<div id=\"df-a5f6de34-5ce4-4380-a9ce-5c116ed445c7\">\n",
              "  <button class=\"colab-df-quickchart\" onclick=\"quickchart('df-a5f6de34-5ce4-4380-a9ce-5c116ed445c7')\"\n",
              "            title=\"Suggest charts\"\n",
              "            style=\"display:none;\">\n",
              "\n",
              "<svg xmlns=\"http://www.w3.org/2000/svg\" height=\"24px\"viewBox=\"0 0 24 24\"\n",
              "     width=\"24px\">\n",
              "    <g>\n",
              "        <path d=\"M19 3H5c-1.1 0-2 .9-2 2v14c0 1.1.9 2 2 2h14c1.1 0 2-.9 2-2V5c0-1.1-.9-2-2-2zM9 17H7v-7h2v7zm4 0h-2V7h2v10zm4 0h-2v-4h2v4z\"/>\n",
              "    </g>\n",
              "</svg>\n",
              "  </button>\n",
              "\n",
              "<style>\n",
              "  .colab-df-quickchart {\n",
              "      --bg-color: #E8F0FE;\n",
              "      --fill-color: #1967D2;\n",
              "      --hover-bg-color: #E2EBFA;\n",
              "      --hover-fill-color: #174EA6;\n",
              "      --disabled-fill-color: #AAA;\n",
              "      --disabled-bg-color: #DDD;\n",
              "  }\n",
              "\n",
              "  [theme=dark] .colab-df-quickchart {\n",
              "      --bg-color: #3B4455;\n",
              "      --fill-color: #D2E3FC;\n",
              "      --hover-bg-color: #434B5C;\n",
              "      --hover-fill-color: #FFFFFF;\n",
              "      --disabled-bg-color: #3B4455;\n",
              "      --disabled-fill-color: #666;\n",
              "  }\n",
              "\n",
              "  .colab-df-quickchart {\n",
              "    background-color: var(--bg-color);\n",
              "    border: none;\n",
              "    border-radius: 50%;\n",
              "    cursor: pointer;\n",
              "    display: none;\n",
              "    fill: var(--fill-color);\n",
              "    height: 32px;\n",
              "    padding: 0;\n",
              "    width: 32px;\n",
              "  }\n",
              "\n",
              "  .colab-df-quickchart:hover {\n",
              "    background-color: var(--hover-bg-color);\n",
              "    box-shadow: 0 1px 2px rgba(60, 64, 67, 0.3), 0 1px 3px 1px rgba(60, 64, 67, 0.15);\n",
              "    fill: var(--button-hover-fill-color);\n",
              "  }\n",
              "\n",
              "  .colab-df-quickchart-complete:disabled,\n",
              "  .colab-df-quickchart-complete:disabled:hover {\n",
              "    background-color: var(--disabled-bg-color);\n",
              "    fill: var(--disabled-fill-color);\n",
              "    box-shadow: none;\n",
              "  }\n",
              "\n",
              "  .colab-df-spinner {\n",
              "    border: 2px solid var(--fill-color);\n",
              "    border-color: transparent;\n",
              "    border-bottom-color: var(--fill-color);\n",
              "    animation:\n",
              "      spin 1s steps(1) infinite;\n",
              "  }\n",
              "\n",
              "  @keyframes spin {\n",
              "    0% {\n",
              "      border-color: transparent;\n",
              "      border-bottom-color: var(--fill-color);\n",
              "      border-left-color: var(--fill-color);\n",
              "    }\n",
              "    20% {\n",
              "      border-color: transparent;\n",
              "      border-left-color: var(--fill-color);\n",
              "      border-top-color: var(--fill-color);\n",
              "    }\n",
              "    30% {\n",
              "      border-color: transparent;\n",
              "      border-left-color: var(--fill-color);\n",
              "      border-top-color: var(--fill-color);\n",
              "      border-right-color: var(--fill-color);\n",
              "    }\n",
              "    40% {\n",
              "      border-color: transparent;\n",
              "      border-right-color: var(--fill-color);\n",
              "      border-top-color: var(--fill-color);\n",
              "    }\n",
              "    60% {\n",
              "      border-color: transparent;\n",
              "      border-right-color: var(--fill-color);\n",
              "    }\n",
              "    80% {\n",
              "      border-color: transparent;\n",
              "      border-right-color: var(--fill-color);\n",
              "      border-bottom-color: var(--fill-color);\n",
              "    }\n",
              "    90% {\n",
              "      border-color: transparent;\n",
              "      border-bottom-color: var(--fill-color);\n",
              "    }\n",
              "  }\n",
              "</style>\n",
              "\n",
              "  <script>\n",
              "    async function quickchart(key) {\n",
              "      const quickchartButtonEl =\n",
              "        document.querySelector('#' + key + ' button');\n",
              "      quickchartButtonEl.disabled = true;  // To prevent multiple clicks.\n",
              "      quickchartButtonEl.classList.add('colab-df-spinner');\n",
              "      try {\n",
              "        const charts = await google.colab.kernel.invokeFunction(\n",
              "            'suggestCharts', [key], {});\n",
              "      } catch (error) {\n",
              "        console.error('Error during call to suggestCharts:', error);\n",
              "      }\n",
              "      quickchartButtonEl.classList.remove('colab-df-spinner');\n",
              "      quickchartButtonEl.classList.add('colab-df-quickchart-complete');\n",
              "    }\n",
              "    (() => {\n",
              "      let quickchartButtonEl =\n",
              "        document.querySelector('#df-a5f6de34-5ce4-4380-a9ce-5c116ed445c7 button');\n",
              "      quickchartButtonEl.style.display =\n",
              "        google.colab.kernel.accessAllowed ? 'block' : 'none';\n",
              "    })();\n",
              "  </script>\n",
              "</div>\n",
              "\n",
              "  <div id=\"id_e6e3deda-6cdf-4e2a-97d5-576305349ffb\">\n",
              "    <style>\n",
              "      .colab-df-generate {\n",
              "        background-color: #E8F0FE;\n",
              "        border: none;\n",
              "        border-radius: 50%;\n",
              "        cursor: pointer;\n",
              "        display: none;\n",
              "        fill: #1967D2;\n",
              "        height: 32px;\n",
              "        padding: 0 0 0 0;\n",
              "        width: 32px;\n",
              "      }\n",
              "\n",
              "      .colab-df-generate:hover {\n",
              "        background-color: #E2EBFA;\n",
              "        box-shadow: 0px 1px 2px rgba(60, 64, 67, 0.3), 0px 1px 3px 1px rgba(60, 64, 67, 0.15);\n",
              "        fill: #174EA6;\n",
              "      }\n",
              "\n",
              "      [theme=dark] .colab-df-generate {\n",
              "        background-color: #3B4455;\n",
              "        fill: #D2E3FC;\n",
              "      }\n",
              "\n",
              "      [theme=dark] .colab-df-generate:hover {\n",
              "        background-color: #434B5C;\n",
              "        box-shadow: 0px 1px 3px 1px rgba(0, 0, 0, 0.15);\n",
              "        filter: drop-shadow(0px 1px 2px rgba(0, 0, 0, 0.3));\n",
              "        fill: #FFFFFF;\n",
              "      }\n",
              "    </style>\n",
              "    <button class=\"colab-df-generate\" onclick=\"generateWithVariable('contingency_table')\"\n",
              "            title=\"Generate code using this dataframe.\"\n",
              "            style=\"display:none;\">\n",
              "\n",
              "  <svg xmlns=\"http://www.w3.org/2000/svg\" height=\"24px\"viewBox=\"0 0 24 24\"\n",
              "       width=\"24px\">\n",
              "    <path d=\"M7,19H8.4L18.45,9,17,7.55,7,17.6ZM5,21V16.75L18.45,3.32a2,2,0,0,1,2.83,0l1.4,1.43a1.91,1.91,0,0,1,.58,1.4,1.91,1.91,0,0,1-.58,1.4L9.25,21ZM18.45,9,17,7.55Zm-12,3A5.31,5.31,0,0,0,4.9,8.1,5.31,5.31,0,0,0,1,6.5,5.31,5.31,0,0,0,4.9,4.9,5.31,5.31,0,0,0,6.5,1,5.31,5.31,0,0,0,8.1,4.9,5.31,5.31,0,0,0,12,6.5,5.46,5.46,0,0,0,6.5,12Z\"/>\n",
              "  </svg>\n",
              "    </button>\n",
              "    <script>\n",
              "      (() => {\n",
              "      const buttonEl =\n",
              "        document.querySelector('#id_e6e3deda-6cdf-4e2a-97d5-576305349ffb button.colab-df-generate');\n",
              "      buttonEl.style.display =\n",
              "        google.colab.kernel.accessAllowed ? 'block' : 'none';\n",
              "\n",
              "      buttonEl.onclick = () => {\n",
              "        google.colab.notebook.generateWithVariable('contingency_table');\n",
              "      }\n",
              "      })();\n",
              "    </script>\n",
              "  </div>\n",
              "\n",
              "    </div>\n",
              "  </div>\n"
            ],
            "application/vnd.google.colaboratory.intrinsic+json": {
              "type": "dataframe",
              "variable_name": "contingency_table",
              "summary": "{\n  \"name\": \"contingency_table\",\n  \"rows\": 3,\n  \"fields\": [\n    {\n      \"column\": \"language_preferred\",\n      \"properties\": {\n        \"dtype\": \"string\",\n        \"num_unique_values\": 3,\n        \"samples\": [\n          \"English\",\n          \"French\",\n          \"Spanish\"\n        ],\n        \"semantic_type\": \"\",\n        \"description\": \"\"\n      }\n    },\n    {\n      \"column\": \"no\",\n      \"properties\": {\n        \"dtype\": \"number\",\n        \"std\": 4,\n        \"min\": 11,\n        \"max\": 19,\n        \"num_unique_values\": 3,\n        \"samples\": [\n          11,\n          19,\n          16\n        ],\n        \"semantic_type\": \"\",\n        \"description\": \"\"\n      }\n    },\n    {\n      \"column\": \"yes\",\n      \"properties\": {\n        \"dtype\": \"number\",\n        \"std\": 3,\n        \"min\": 15,\n        \"max\": 21,\n        \"num_unique_values\": 3,\n        \"samples\": [\n          21,\n          15,\n          18\n        ],\n        \"semantic_type\": \"\",\n        \"description\": \"\"\n      }\n    }\n  ]\n}"
            }
          },
          "metadata": {},
          "execution_count": 98
        }
      ]
    },
    {
      "cell_type": "markdown",
      "source": [
        "### A Visual Analysis"
      ],
      "metadata": {
        "id": "tQvohwYtoIsK"
      },
      "id": "tQvohwYtoIsK"
    },
    {
      "cell_type": "code",
      "source": [
        "# visual analysis\n",
        "pd.crosstab(df.language_preferred,df.converted,normalize=True).plot(kind='bar',stacked=True)\n",
        "plt.title('Conversion and Preferred Language')\n",
        "plt.xlabel('Preferred Language');"
      ],
      "metadata": {
        "colab": {
          "base_uri": "https://localhost:8080/",
          "height": 512
        },
        "id": "U7LX-y-3npPq",
        "outputId": "c56428dd-86c7-4c3b-ab3c-dcd314729543"
      },
      "id": "U7LX-y-3npPq",
      "execution_count": null,
      "outputs": [
        {
          "output_type": "display_data",
          "data": {
            "text/plain": [
              "<Figure size 640x480 with 1 Axes>"
            ],
            "image/png": "[encoded data removed]"
          },
          "metadata": {}
        }
      ]
    },
    {
      "cell_type": "markdown",
      "source": [
        "- The conversion rate seems to be generally equal for preferred languages, French and Spanish.\n",
        "- There seems to be a larger proportion of converters when the preferred language is English.\n",
        "- Calculating the p-value will allow us to conclude if conversion status is independent (or dependent) of preferred language."
      ],
      "metadata": {
        "id": "X3Kuew0ooEvl"
      },
      "id": "X3Kuew0ooEvl"
    },
    {
      "cell_type": "markdown",
      "source": [
        "### Find p-value"
      ],
      "metadata": {
        "id": "uZUyLcEbd_BF"
      },
      "id": "uZUyLcEbd_BF"
    },
    {
      "cell_type": "code",
      "metadata": {
        "id": "b0e63f17",
        "colab": {
          "base_uri": "https://localhost:8080/"
        },
        "outputId": "bea81e9e-7ae7-41f2-89ca-f429d1cb586a"
      },
      "source": [
        "#import necessary function\n",
        "from scipy.stats import chi2_contingency\n",
        "\n",
        "#calculate p-value\n",
        "chi, p_val_3, dof, expected_freq = chi2_contingency(contingency_table)\n",
        "print('The p-value is ' + str(p_val_3))"
      ],
      "id": "b0e63f17",
      "execution_count": null,
      "outputs": [
        {
          "output_type": "stream",
          "name": "stdout",
          "text": [
            "The p-value is 0.2129888748754345\n"
          ]
        }
      ]
    },
    {
      "cell_type": "markdown",
      "source": [
        "### Compare p-value to level of significance"
      ],
      "metadata": {
        "id": "yO-5Kv9HeG9J"
      },
      "id": "yO-5Kv9HeG9J"
    },
    {
      "cell_type": "markdown",
      "source": [
        "- The p-value of ~0.21% is larger than the level of significance of 5%. We do not have enough evidence to reject the null hypothesis."
      ],
      "metadata": {
        "id": "acUxKkvZhYoZ"
      },
      "id": "acUxKkvZhYoZ"
    },
    {
      "cell_type": "markdown",
      "source": [
        "### Draw a conclusion\n",
        "- We conclude that preferred language and conversion status are independent of each other."
      ],
      "metadata": {
        "id": "p6QA8-Y2eLXK"
      },
      "id": "p6QA8-Y2eLXK"
    },
    {
      "cell_type": "markdown",
      "metadata": {
        "id": "8d585a90"
      },
      "source": [
        "## 4. Is the time spent on the new page same for the different language users?"
      ],
      "id": "8d585a90"
    },
    {
      "cell_type": "markdown",
      "source": [
        "###Establish null and alternative hypothesis"
      ],
      "metadata": {
        "id": "i8OxPdDUdYJt"
      },
      "id": "i8OxPdDUdYJt"
    },
    {
      "cell_type": "markdown",
      "source": [
        "- Let $\\mu_1, \\mu_2$ and $\\mu_3$ represent the mean times spent on the new page for preferred languages, English, Spanish and French respectively.\n",
        "- $H_0:$ $\\mu_1 = \\mu_2 = \\mu_3$\n",
        "- $H_A:$ At least one mean time spent on the new page, sorted by language, is different from the others."
      ],
      "metadata": {
        "id": "vdOOpNeEidB_"
      },
      "id": "vdOOpNeEidB_"
    },
    {
      "cell_type": "markdown",
      "source": [
        "###Data Visualization"
      ],
      "metadata": {
        "id": "avWPVvkfplry"
      },
      "id": "avWPVvkfplry"
    },
    {
      "cell_type": "code",
      "source": [
        "#find mean time spent on the new page for each language\n",
        "print(treatment_group.groupby('language_preferred')['time_spent_on_the_page'].mean())"
      ],
      "metadata": {
        "colab": {
          "base_uri": "https://localhost:8080/"
        },
        "id": "-UUq8r4wp1UK",
        "outputId": "a048b243-03b9-4bb0-8fd3-219eaad671bf"
      },
      "id": "-UUq8r4wp1UK",
      "execution_count": null,
      "outputs": [
        {
          "output_type": "stream",
          "name": "stdout",
          "text": [
            "language_preferred\n",
            "English    6.663750\n",
            "French     6.196471\n",
            "Spanish    5.835294\n",
            "Name: time_spent_on_the_page, dtype: float64\n"
          ]
        }
      ]
    },
    {
      "cell_type": "code",
      "source": [
        "#generate a boxplot\n",
        "sns.boxplot(data=treatment_group, x='language_preferred', y='time_spent_on_the_page', hue='language_preferred');\n",
        "plt.title('Time Spent on New Page by Preferred Language')\n",
        "plt.xlabel('Language Preferred')\n",
        "plt.ylabel('Time Spent on the Page in Minutes')"
      ],
      "metadata": {
        "colab": {
          "base_uri": "https://localhost:8080/",
          "height": 489
        },
        "id": "CFmx-1nGq3r6",
        "outputId": "05392a0a-e3e7-48df-f22c-b3ebfd86405b"
      },
      "id": "CFmx-1nGq3r6",
      "execution_count": null,
      "outputs": [
        {
          "output_type": "execute_result",
          "data": {
            "text/plain": [
              "Text(0, 0.5, 'Time Spent on the Page in Minutes')"
            ]
          },
          "metadata": {},
          "execution_count": 102
        },
        {
          "output_type": "display_data",
          "data": {
            "text/plain": [
              "<Figure size 640x480 with 1 Axes>"
            ],
            "image/png": "[encoded data removed]"
          },
          "metadata": {}
        }
      ]
    },
    {
      "cell_type": "markdown",
      "source": [
        "### Choose an appropriate test\n",
        "- An ANOVA test would be appropriate since we are investigating if there is a difference in means among more than 2 groups."
      ],
      "metadata": {
        "id": "nb-rpr4vdsJT"
      },
      "id": "nb-rpr4vdsJT"
    },
    {
      "cell_type": "markdown",
      "source": [
        "### Establish significance level\n",
        "- Let α = 0.05."
      ],
      "metadata": {
        "id": "TP21VXw5dyXZ"
      },
      "id": "TP21VXw5dyXZ"
    },
    {
      "cell_type": "markdown",
      "source": [
        "###Data preparation\n",
        "- We first must ensure that the assumptions of the ANOVA test have been met.\n",
        "- The dependent variable (time spent on the page) follows a normal distribution - Yes, this was established on question 1, step 2.\n",
        "- Equal variances - **To be established by performing Levene's Test on dependent variable.**\n",
        "- Random sampling - Yes."
      ],
      "metadata": {
        "id": "9WW_IUw8d4R6"
      },
      "id": "9WW_IUw8d4R6"
    },
    {
      "cell_type": "markdown",
      "source": [
        "### **Levene's Test**"
      ],
      "metadata": {
        "id": "WAJsjQepmXep"
      },
      "id": "WAJsjQepmXep"
    },
    {
      "cell_type": "markdown",
      "source": [
        "- $H_0:$ Population variances are equal\n",
        "- $H_A:$ At least one variance is different from the rest"
      ],
      "metadata": {
        "id": "Yl9BGd5In1GE"
      },
      "id": "Yl9BGd5In1GE"
    },
    {
      "cell_type": "markdown",
      "source": [
        "### Find p-value for Levene's test"
      ],
      "metadata": {
        "id": "XIKzBVvFd9lo"
      },
      "id": "XIKzBVvFd9lo"
    },
    {
      "cell_type": "code",
      "metadata": {
        "id": "b422f395",
        "colab": {
          "base_uri": "https://localhost:8080/"
        },
        "outputId": "8ccb3abd-0fb6-4ea7-f3d8-3fcf98751f92"
      },
      "source": [
        "#import required function\n",
        "from scipy.stats import levene\n",
        "\n",
        "#slice data and calculate p-value\n",
        "stat_4, p_val_4 = levene(treatment_group[treatment_group['language_preferred']=='Spanish']['time_spent_on_the_page'],\n",
        "                         treatment_group[treatment_group['language_preferred']=='French']['time_spent_on_the_page'],\n",
        "                         treatment_group[treatment_group['language_preferred']=='English']['time_spent_on_the_page'])\n",
        "print(f\"The p-value for the Levene's test is {round(p_val_4,3)}.\")"
      ],
      "id": "b422f395",
      "execution_count": null,
      "outputs": [
        {
          "output_type": "stream",
          "name": "stdout",
          "text": [
            "The p-value for the Levene's test is 0.467.\n"
          ]
        }
      ]
    },
    {
      "cell_type": "markdown",
      "source": [
        "- Since the p-value for the Levene's test is above our level of significance (5%), we do not have enough evidence to reject the null hypothesis. Thus, we conclude that the population variances are equal.\n",
        "- We will proceed with the ANOVA test by creating variables that store the sliced data"
      ],
      "metadata": {
        "id": "SPcXyNTyrhgv"
      },
      "id": "SPcXyNTyrhgv"
    },
    {
      "cell_type": "code",
      "source": [
        "#construct variables to store time spent on new page, with respect to preferred language\n",
        "time_spent_new_spanish = treatment_group[treatment_group['language_preferred']=='Spanish']['time_spent_on_the_page']\n",
        "time_spent_new_french = treatment_group[treatment_group['language_preferred']=='French']['time_spent_on_the_page']\n",
        "time_spent_new_english = treatment_group[treatment_group['language_preferred']=='English']['time_spent_on_the_page']"
      ],
      "metadata": {
        "id": "6b745O1NtnXN"
      },
      "id": "6b745O1NtnXN",
      "execution_count": null,
      "outputs": []
    },
    {
      "cell_type": "markdown",
      "source": [
        "### Calculate p-value for ANOVA test"
      ],
      "metadata": {
        "id": "3w1L29n7sZvj"
      },
      "id": "3w1L29n7sZvj"
    },
    {
      "cell_type": "code",
      "source": [
        "#import required function\n",
        "from scipy.stats import f_oneway\n",
        "\n",
        "stat_5, p_val_5 = f_oneway(time_spent_new_spanish, time_spent_new_french, time_spent_new_english)\n",
        "print(f'The p-value is {round(p_val_5,3)}.')"
      ],
      "metadata": {
        "colab": {
          "base_uri": "https://localhost:8080/"
        },
        "id": "ZL4PPAmWsxY0",
        "outputId": "8105de58-cf8c-4bab-a1f6-044f5e9294e9"
      },
      "execution_count": null,
      "outputs": [
        {
          "output_type": "stream",
          "name": "stdout",
          "text": [
            "The p-value is 0.432.\n"
          ]
        }
      ],
      "id": "ZL4PPAmWsxY0"
    },
    {
      "cell_type": "markdown",
      "source": [
        "### Compare p-value to level of significance"
      ],
      "metadata": {
        "id": "dkhoxe8TeF-S"
      },
      "id": "dkhoxe8TeF-S"
    },
    {
      "cell_type": "markdown",
      "source": [
        "- The p-value ~43% is above the level of significance of 5%."
      ],
      "metadata": {
        "id": "UoEJIht8vr5H"
      },
      "id": "UoEJIht8vr5H"
    },
    {
      "cell_type": "markdown",
      "source": [
        "### Draw a conclusion"
      ],
      "metadata": {
        "id": "DetNBwZyeQcT"
      },
      "id": "DetNBwZyeQcT"
    },
    {
      "cell_type": "markdown",
      "source": [
        "- Thus, we do not have enough evidence to reject the null hypothesis. We conclude that the average time spent on the new page is the same for all language users."
      ],
      "metadata": {
        "id": "XLf01D5Dvx82"
      },
      "id": "XLf01D5Dvx82"
    },
    {
      "cell_type": "markdown",
      "metadata": {
        "id": "3acbc947"
      },
      "source": [
        "## Conclusion and Business Recommendations"
      ],
      "id": "3acbc947"
    },
    {
      "cell_type": "markdown",
      "metadata": {
        "id": "21fb1063"
      },
      "source": [
        "**Observations on sample data:**\n",
        "- Users spent anywhere between 0.19 - 10.71 minutes on their respective landing page.\n",
        "- On average, users spend more time on the new page than the old one.\n",
        "  - Mean time spent on the old landing page = 4.53 minutes\n",
        "  - Mean time spent on the new landing page = 6.22 minutes\n",
        "-On average, users who converted to subscribers spent more time on their respective landing page than users who did not convert.\n",
        "  - Mean time spent on landing page for users who converted = 6.62 minutes\n",
        "  - Mean time spent on landing page for users who did not convert = 3.92 minutes\n",
        "\n",
        "**Conclusions based on statistical evidence:**\n",
        "- Statistical evidence (p-value of ~1.3x10^(-4) at 5% level of significance) suggests that the average time spent on the new landing page is greater than the time spent on the existing landing page.\n",
        "- There is enough statistical evidence (p-value of 0.008 at a 5% level of significance) to conclude that the conversion rate for the new page is greater than the conversion rate of the old page.\n",
        "- Statistical evidence (p-value of ~21% at 5% level of significance) supports that conversion status and preferred language are independent of each other.\n",
        "- There is enough statistical evidence (p-value of ~43% at 5% level of significance) to support that the average time spent on the new page is the same across all language users.\n",
        "\n",
        "**Recommendations:**\n",
        "- Discontinue the use of the existing landing page and begin to implement the new one for all users.\n",
        "- Strive to increase user engagement and time spent on the page to increase likelihood of users becoming subscribers.\n",
        "- Have users take a short survey or answer a survey-like question after they use certain features of the website. This data can be used to improve user experience."
      ],
      "id": "21fb1063"
    },
    {
      "cell_type": "code",
      "source": [
        "!jupyter nbconvert --execute --to html '/content/COPY_of_ENews_Express_Learner_Notebook_Full_Code.ipynb'"
      ],
      "metadata": {
        "colab": {
          "base_uri": "https://localhost:8080/"
        },
        "id": "QliNGHKW1En_",
        "outputId": "18a18f7d-2fb7-48e5-bbb3-9bfd877dc0d5"
      },
      "id": "QliNGHKW1En_",
      "execution_count": null,
      "outputs": [
        {
          "output_type": "stream",
          "name": "stdout",
          "text": [
            "[NbConvertApp] Converting notebook /content/COPY_of_ENews_Express_Learner_Notebook_Full_Code.ipynb to html\n",
            "[NbConvertApp] ERROR | unhandled iopub msg: colab_request\n",
            "[NbConvertApp] ERROR | unhandled iopub msg: colab_request\n",
            "[NbConvertApp] ERROR | unhandled iopub msg: colab_request\n",
            "[NbConvertApp] Writing 985765 bytes to /content/COPY_of_ENews_Express_Learner_Notebook_Full_Code.html\n"
          ]
        }
      ]
    }
  ]
}